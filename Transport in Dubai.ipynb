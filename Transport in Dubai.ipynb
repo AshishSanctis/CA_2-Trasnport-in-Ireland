{
 "cells": [
  {
   "cell_type": "code",
   "execution_count": 1,
   "id": "4f7c8c25",
   "metadata": {},
   "outputs": [],
   "source": [
    "import pandas as pd\n",
    "import numpy as np\n",
    "import matplotlib.pyplot as plt\n",
    "import seaborn as sns\n",
    "from sklearn.preprocessing import OrdinalEncoder \n",
    "from sklearn.preprocessing import LabelEncoder   \n",
    "from sklearn.preprocessing import OneHotEncoder \n",
    "from scipy.stats import norm\n",
    "from scipy import stats\n",
    "from scipy.stats import poisson\n",
    "from math import factorial\n",
    "from sklearn.tree import DecisionTreeRegressor\n",
    "from sklearn.preprocessing import StandardScaler\n",
    "from sklearn.model_selection import train_test_split\n",
    "from sklearn.metrics import r2_score, mean_absolute_error, mean_squared_error\n",
    "from sklearn.linear_model import LinearRegression, Ridge, Lasso\n",
    "from sklearn.ensemble import RandomForestRegressor\n",
    "from sklearn.model_selection import GridSearchCV, cross_val_score, cross_val_predict\n",
    "from sklearn.linear_model import LassoCV\n",
    "from statsmodels.tools.eval_measures import mse, rmse\n",
    "from sklearn import preprocessing\n",
    "from scipy.stats import chi2_contingency\n",
    "import warnings\n",
    "from scipy.special import factorial\n",
    "from sklearn.linear_model import ElasticNet\n",
    "import panel as pn\n",
    "import statsmodels.api as sm\n",
    "from sklearn.linear_model import LogisticRegression\n",
    "from sklearn.metrics import accuracy_score, classification_report, confusion_matrix"
   ]
  },
  {
   "cell_type": "code",
   "execution_count": 2,
   "id": "79162c60",
   "metadata": {},
   "outputs": [],
   "source": [
    "df1=pd.read_excel(\"2017 tramp dubai.xlsx\")"
   ]
  },
  {
   "cell_type": "code",
   "execution_count": 3,
   "id": "dcc4989e",
   "metadata": {},
   "outputs": [
    {
     "data": {
      "text/html": [
       "<div>\n",
       "<style scoped>\n",
       "    .dataframe tbody tr th:only-of-type {\n",
       "        vertical-align: middle;\n",
       "    }\n",
       "\n",
       "    .dataframe tbody tr th {\n",
       "        vertical-align: top;\n",
       "    }\n",
       "\n",
       "    .dataframe thead th {\n",
       "        text-align: right;\n",
       "    }\n",
       "</style>\n",
       "<table border=\"1\" class=\"dataframe\">\n",
       "  <thead>\n",
       "    <tr style=\"text-align: right;\">\n",
       "      <th></th>\n",
       "      <th>Metro - Red Line</th>\n",
       "      <th>Metro - Green Line</th>\n",
       "      <th>Tram</th>\n",
       "      <th>Month</th>\n",
       "    </tr>\n",
       "  </thead>\n",
       "  <tbody>\n",
       "    <tr>\n",
       "      <th>0</th>\n",
       "      <td>14557</td>\n",
       "      <td>10236</td>\n",
       "      <td>8226</td>\n",
       "      <td>January</td>\n",
       "    </tr>\n",
       "    <tr>\n",
       "      <th>1</th>\n",
       "      <td>12940</td>\n",
       "      <td>9124</td>\n",
       "      <td>7408</td>\n",
       "      <td>February</td>\n",
       "    </tr>\n",
       "    <tr>\n",
       "      <th>2</th>\n",
       "      <td>14469</td>\n",
       "      <td>10087</td>\n",
       "      <td>8178</td>\n",
       "      <td>March</td>\n",
       "    </tr>\n",
       "    <tr>\n",
       "      <th>3</th>\n",
       "      <td>14007</td>\n",
       "      <td>9788</td>\n",
       "      <td>7947</td>\n",
       "      <td>April</td>\n",
       "    </tr>\n",
       "    <tr>\n",
       "      <th>4</th>\n",
       "      <td>14518</td>\n",
       "      <td>10001</td>\n",
       "      <td>8218</td>\n",
       "      <td>May</td>\n",
       "    </tr>\n",
       "  </tbody>\n",
       "</table>\n",
       "</div>"
      ],
      "text/plain": [
       "   Metro - Red Line  Metro - Green Line  Tram     Month\n",
       "0             14557               10236  8226   January\n",
       "1             12940                9124  7408  February\n",
       "2             14469               10087  8178     March\n",
       "3             14007                9788  7947     April\n",
       "4             14518               10001  8218       May"
      ]
     },
     "execution_count": 3,
     "metadata": {},
     "output_type": "execute_result"
    }
   ],
   "source": [
    "df1.head()"
   ]
  },
  {
   "cell_type": "code",
   "execution_count": 4,
   "id": "18dcba3e",
   "metadata": {},
   "outputs": [
    {
     "name": "stdout",
     "output_type": "stream",
     "text": [
      "    Metro - Red Line  Metro - Green Line   Tram      Month  Year\n",
      "0              14557               10236   8226    January  2017\n",
      "1              12940                9124   7408   February  2017\n",
      "2              14469               10087   8178      March  2017\n",
      "3              14007                9788   7947      April  2017\n",
      "4              14518               10001   8218        May  2017\n",
      "5              13459                8915   7896       June  2017\n",
      "6              15008               10115   8218       July  2017\n",
      "7              15222               10174   8211     August  2017\n",
      "8              15231                9785   7894  September  2017\n",
      "9              15541               10161   8218    October  2017\n",
      "10             14199               10121   8130   November  2017\n",
      "11             14669               10395   8423   December  2017\n",
      "12            173820              118902  96967      Total  2017\n"
     ]
    }
   ],
   "source": [
    "df1['Year']= 2017\n",
    "print(df1)"
   ]
  },
  {
   "cell_type": "code",
   "execution_count": 5,
   "id": "bfa6f334",
   "metadata": {},
   "outputs": [],
   "source": [
    "df2=pd.read_excel(\"2018 tramp dubai.xlsx\")"
   ]
  },
  {
   "cell_type": "code",
   "execution_count": 6,
   "id": "c531d9d3",
   "metadata": {},
   "outputs": [
    {
     "data": {
      "text/html": [
       "<div>\n",
       "<style scoped>\n",
       "    .dataframe tbody tr th:only-of-type {\n",
       "        vertical-align: middle;\n",
       "    }\n",
       "\n",
       "    .dataframe tbody tr th {\n",
       "        vertical-align: top;\n",
       "    }\n",
       "\n",
       "    .dataframe thead th {\n",
       "        text-align: right;\n",
       "    }\n",
       "</style>\n",
       "<table border=\"1\" class=\"dataframe\">\n",
       "  <thead>\n",
       "    <tr style=\"text-align: right;\">\n",
       "      <th></th>\n",
       "      <th>Metro - Red Line</th>\n",
       "      <th>Metro - Green Line</th>\n",
       "      <th>Tram</th>\n",
       "      <th>Month</th>\n",
       "    </tr>\n",
       "  </thead>\n",
       "  <tbody>\n",
       "    <tr>\n",
       "      <th>0</th>\n",
       "      <td>26793</td>\n",
       "      <td>10532</td>\n",
       "      <td>8448</td>\n",
       "      <td>January</td>\n",
       "    </tr>\n",
       "    <tr>\n",
       "      <th>1</th>\n",
       "      <td>25712</td>\n",
       "      <td>9395</td>\n",
       "      <td>7600</td>\n",
       "      <td>February</td>\n",
       "    </tr>\n",
       "    <tr>\n",
       "      <th>2</th>\n",
       "      <td>28186</td>\n",
       "      <td>10345</td>\n",
       "      <td>8385</td>\n",
       "      <td>March</td>\n",
       "    </tr>\n",
       "    <tr>\n",
       "      <th>3</th>\n",
       "      <td>27662</td>\n",
       "      <td>10095</td>\n",
       "      <td>8149</td>\n",
       "      <td>April</td>\n",
       "    </tr>\n",
       "    <tr>\n",
       "      <th>4</th>\n",
       "      <td>28400</td>\n",
       "      <td>10041</td>\n",
       "      <td>8432</td>\n",
       "      <td>May</td>\n",
       "    </tr>\n",
       "  </tbody>\n",
       "</table>\n",
       "</div>"
      ],
      "text/plain": [
       "   Metro - Red Line  Metro - Green Line  Tram     Month\n",
       "0             26793               10532  8448   January\n",
       "1             25712                9395  7600  February\n",
       "2             28186               10345  8385     March\n",
       "3             27662               10095  8149     April\n",
       "4             28400               10041  8432       May"
      ]
     },
     "execution_count": 6,
     "metadata": {},
     "output_type": "execute_result"
    }
   ],
   "source": [
    "df2.head()"
   ]
  },
  {
   "cell_type": "code",
   "execution_count": 7,
   "id": "13da3194",
   "metadata": {},
   "outputs": [
    {
     "name": "stdout",
     "output_type": "stream",
     "text": [
      "    Metro - Red Line  Metro - Green Line   Tram      Month  Year\n",
      "0              26793               10532   8448    January  2018\n",
      "1              25712                9395   7600   February  2018\n",
      "2              28186               10345   8385      March  2018\n",
      "3              27662               10095   8149      April  2018\n",
      "4              28400               10041   8432        May  2018\n",
      "5              28021                9788   8094       June  2018\n",
      "6              28619               10436   8393       July  2018\n",
      "7              28901               10521   8386     August  2018\n",
      "8              27556               10072   8150  September  2018\n",
      "9              28679               10449   8418    October  2018\n",
      "10             27436               10019   8104   November  2018\n",
      "11             28842               10544   8470   December  2018\n",
      "12            334807              122237  99029      Total  2018\n"
     ]
    }
   ],
   "source": [
    "df2['Year']= 2018\n",
    "print(df2)"
   ]
  },
  {
   "cell_type": "code",
   "execution_count": 8,
   "id": "451805d0",
   "metadata": {},
   "outputs": [],
   "source": [
    "df3=pd.read_excel(\"2019 tramp dubai.xlsx\")"
   ]
  },
  {
   "cell_type": "code",
   "execution_count": 9,
   "id": "a6a8b692",
   "metadata": {},
   "outputs": [
    {
     "data": {
      "text/html": [
       "<div>\n",
       "<style scoped>\n",
       "    .dataframe tbody tr th:only-of-type {\n",
       "        vertical-align: middle;\n",
       "    }\n",
       "\n",
       "    .dataframe tbody tr th {\n",
       "        vertical-align: top;\n",
       "    }\n",
       "\n",
       "    .dataframe thead th {\n",
       "        text-align: right;\n",
       "    }\n",
       "</style>\n",
       "<table border=\"1\" class=\"dataframe\">\n",
       "  <thead>\n",
       "    <tr style=\"text-align: right;\">\n",
       "      <th></th>\n",
       "      <th>Metro - Red Line</th>\n",
       "      <th>Metro - Green Line</th>\n",
       "      <th>Tram</th>\n",
       "      <th>Month</th>\n",
       "    </tr>\n",
       "  </thead>\n",
       "  <tbody>\n",
       "    <tr>\n",
       "      <th>0</th>\n",
       "      <td>28481</td>\n",
       "      <td>10553</td>\n",
       "      <td>8429</td>\n",
       "      <td>January</td>\n",
       "    </tr>\n",
       "    <tr>\n",
       "      <th>1</th>\n",
       "      <td>25700</td>\n",
       "      <td>9396</td>\n",
       "      <td>7600</td>\n",
       "      <td>February</td>\n",
       "    </tr>\n",
       "    <tr>\n",
       "      <th>2</th>\n",
       "      <td>28188</td>\n",
       "      <td>10318</td>\n",
       "      <td>8376</td>\n",
       "      <td>March</td>\n",
       "    </tr>\n",
       "    <tr>\n",
       "      <th>3</th>\n",
       "      <td>23166</td>\n",
       "      <td>10120</td>\n",
       "      <td>8154</td>\n",
       "      <td>April</td>\n",
       "    </tr>\n",
       "    <tr>\n",
       "      <th>4</th>\n",
       "      <td>15974</td>\n",
       "      <td>10044</td>\n",
       "      <td>8359</td>\n",
       "      <td>May</td>\n",
       "    </tr>\n",
       "  </tbody>\n",
       "</table>\n",
       "</div>"
      ],
      "text/plain": [
       "   Metro - Red Line  Metro - Green Line  Tram     Month\n",
       "0             28481               10553  8429   January\n",
       "1             25700                9396  7600  February\n",
       "2             28188               10318  8376     March\n",
       "3             23166               10120  8154     April\n",
       "4             15974               10044  8359       May"
      ]
     },
     "execution_count": 9,
     "metadata": {},
     "output_type": "execute_result"
    }
   ],
   "source": [
    "df3.head()"
   ]
  },
  {
   "cell_type": "code",
   "execution_count": 10,
   "id": "973cbb92",
   "metadata": {},
   "outputs": [
    {
     "name": "stdout",
     "output_type": "stream",
     "text": [
      "    Metro - Red Line  Metro - Green Line   Tram      Month  Year\n",
      "0              28481               10553   8429    January  2019\n",
      "1              25700                9396   7600   February  2019\n",
      "2              28188               10318   8376      March  2019\n",
      "3              23166               10120   8154      April  2019\n",
      "4              15974               10044   8359        May  2019\n",
      "5              16756               10303   8114       June  2019\n",
      "6              16907               10446   8419       July  2019\n",
      "7              17185               10583   8386     August  2019\n",
      "8              16396                9978   8150  September  2019\n",
      "9              16846               10471   8430    October  2019\n",
      "10             16031                9845   8103   November  2019\n",
      "11             17321               10609   8466   December  2019\n",
      "12            238951              122666  98986      Total  2019\n"
     ]
    }
   ],
   "source": [
    "df3['Year']= 2019\n",
    "print(df3)"
   ]
  },
  {
   "cell_type": "code",
   "execution_count": 11,
   "id": "4dcfa012",
   "metadata": {},
   "outputs": [
    {
     "data": {
      "text/html": [
       "<div>\n",
       "<style scoped>\n",
       "    .dataframe tbody tr th:only-of-type {\n",
       "        vertical-align: middle;\n",
       "    }\n",
       "\n",
       "    .dataframe tbody tr th {\n",
       "        vertical-align: top;\n",
       "    }\n",
       "\n",
       "    .dataframe thead th {\n",
       "        text-align: right;\n",
       "    }\n",
       "</style>\n",
       "<table border=\"1\" class=\"dataframe\">\n",
       "  <thead>\n",
       "    <tr style=\"text-align: right;\">\n",
       "      <th></th>\n",
       "      <th>Metro - Red Line</th>\n",
       "      <th>Metro - Green Line</th>\n",
       "      <th>Tram</th>\n",
       "      <th>Month</th>\n",
       "      <th>Year</th>\n",
       "    </tr>\n",
       "  </thead>\n",
       "  <tbody>\n",
       "    <tr>\n",
       "      <th>0</th>\n",
       "      <td>14557</td>\n",
       "      <td>10236</td>\n",
       "      <td>8226</td>\n",
       "      <td>January</td>\n",
       "      <td>2017</td>\n",
       "    </tr>\n",
       "    <tr>\n",
       "      <th>1</th>\n",
       "      <td>12940</td>\n",
       "      <td>9124</td>\n",
       "      <td>7408</td>\n",
       "      <td>February</td>\n",
       "      <td>2017</td>\n",
       "    </tr>\n",
       "    <tr>\n",
       "      <th>2</th>\n",
       "      <td>14469</td>\n",
       "      <td>10087</td>\n",
       "      <td>8178</td>\n",
       "      <td>March</td>\n",
       "      <td>2017</td>\n",
       "    </tr>\n",
       "    <tr>\n",
       "      <th>3</th>\n",
       "      <td>14007</td>\n",
       "      <td>9788</td>\n",
       "      <td>7947</td>\n",
       "      <td>April</td>\n",
       "      <td>2017</td>\n",
       "    </tr>\n",
       "    <tr>\n",
       "      <th>4</th>\n",
       "      <td>14518</td>\n",
       "      <td>10001</td>\n",
       "      <td>8218</td>\n",
       "      <td>May</td>\n",
       "      <td>2017</td>\n",
       "    </tr>\n",
       "    <tr>\n",
       "      <th>5</th>\n",
       "      <td>13459</td>\n",
       "      <td>8915</td>\n",
       "      <td>7896</td>\n",
       "      <td>June</td>\n",
       "      <td>2017</td>\n",
       "    </tr>\n",
       "    <tr>\n",
       "      <th>6</th>\n",
       "      <td>15008</td>\n",
       "      <td>10115</td>\n",
       "      <td>8218</td>\n",
       "      <td>July</td>\n",
       "      <td>2017</td>\n",
       "    </tr>\n",
       "    <tr>\n",
       "      <th>7</th>\n",
       "      <td>15222</td>\n",
       "      <td>10174</td>\n",
       "      <td>8211</td>\n",
       "      <td>August</td>\n",
       "      <td>2017</td>\n",
       "    </tr>\n",
       "    <tr>\n",
       "      <th>8</th>\n",
       "      <td>15231</td>\n",
       "      <td>9785</td>\n",
       "      <td>7894</td>\n",
       "      <td>September</td>\n",
       "      <td>2017</td>\n",
       "    </tr>\n",
       "    <tr>\n",
       "      <th>9</th>\n",
       "      <td>15541</td>\n",
       "      <td>10161</td>\n",
       "      <td>8218</td>\n",
       "      <td>October</td>\n",
       "      <td>2017</td>\n",
       "    </tr>\n",
       "    <tr>\n",
       "      <th>10</th>\n",
       "      <td>14199</td>\n",
       "      <td>10121</td>\n",
       "      <td>8130</td>\n",
       "      <td>November</td>\n",
       "      <td>2017</td>\n",
       "    </tr>\n",
       "    <tr>\n",
       "      <th>11</th>\n",
       "      <td>14669</td>\n",
       "      <td>10395</td>\n",
       "      <td>8423</td>\n",
       "      <td>December</td>\n",
       "      <td>2017</td>\n",
       "    </tr>\n",
       "    <tr>\n",
       "      <th>12</th>\n",
       "      <td>173820</td>\n",
       "      <td>118902</td>\n",
       "      <td>96967</td>\n",
       "      <td>Total</td>\n",
       "      <td>2017</td>\n",
       "    </tr>\n",
       "  </tbody>\n",
       "</table>\n",
       "</div>"
      ],
      "text/plain": [
       "    Metro - Red Line  Metro - Green Line   Tram      Month  Year\n",
       "0              14557               10236   8226    January  2017\n",
       "1              12940                9124   7408   February  2017\n",
       "2              14469               10087   8178      March  2017\n",
       "3              14007                9788   7947      April  2017\n",
       "4              14518               10001   8218        May  2017\n",
       "5              13459                8915   7896       June  2017\n",
       "6              15008               10115   8218       July  2017\n",
       "7              15222               10174   8211     August  2017\n",
       "8              15231                9785   7894  September  2017\n",
       "9              15541               10161   8218    October  2017\n",
       "10             14199               10121   8130   November  2017\n",
       "11             14669               10395   8423   December  2017\n",
       "12            173820              118902  96967      Total  2017"
      ]
     },
     "execution_count": 11,
     "metadata": {},
     "output_type": "execute_result"
    }
   ],
   "source": [
    "df1"
   ]
  },
  {
   "cell_type": "code",
   "execution_count": 12,
   "id": "9aaafc95",
   "metadata": {},
   "outputs": [
    {
     "name": "stdout",
     "output_type": "stream",
     "text": [
      "        Month  Year        Transport by  Number of Passengers\n",
      "0     January  2017    Metro - Red Line                 14557\n",
      "1    February  2017    Metro - Red Line                 12940\n",
      "2       March  2017    Metro - Red Line                 14469\n",
      "3       April  2017    Metro - Red Line                 14007\n",
      "4         May  2017    Metro - Red Line                 14518\n",
      "5        June  2017    Metro - Red Line                 13459\n",
      "6        July  2017    Metro - Red Line                 15008\n",
      "7      August  2017    Metro - Red Line                 15222\n",
      "8   September  2017    Metro - Red Line                 15231\n",
      "9     October  2017    Metro - Red Line                 15541\n",
      "10   November  2017    Metro - Red Line                 14199\n",
      "11   December  2017    Metro - Red Line                 14669\n",
      "13    January  2017  Metro - Green Line                 10236\n",
      "14   February  2017  Metro - Green Line                  9124\n",
      "15      March  2017  Metro - Green Line                 10087\n",
      "16      April  2017  Metro - Green Line                  9788\n",
      "17        May  2017  Metro - Green Line                 10001\n",
      "18       June  2017  Metro - Green Line                  8915\n",
      "19       July  2017  Metro - Green Line                 10115\n",
      "20     August  2017  Metro - Green Line                 10174\n",
      "21  September  2017  Metro - Green Line                  9785\n",
      "22    October  2017  Metro - Green Line                 10161\n",
      "23   November  2017  Metro - Green Line                 10121\n",
      "24   December  2017  Metro - Green Line                 10395\n",
      "26    January  2017                Tram                  8226\n",
      "27   February  2017                Tram                  7408\n",
      "28      March  2017                Tram                  8178\n",
      "29      April  2017                Tram                  7947\n",
      "30        May  2017                Tram                  8218\n",
      "31       June  2017                Tram                  7896\n",
      "32       July  2017                Tram                  8218\n",
      "33     August  2017                Tram                  8211\n",
      "34  September  2017                Tram                  7894\n",
      "35    October  2017                Tram                  8218\n",
      "36   November  2017                Tram                  8130\n",
      "37   December  2017                Tram                  8423\n"
     ]
    }
   ],
   "source": [
    "df17 = pd.melt(df1, id_vars=['Month', 'Year'], var_name='Transport by', value_name='Number of Passengers')\n",
    "\n",
    "# Remove the 'Total' rows\n",
    "df17= df17[df17['Month'] != 'Total']\n",
    "\n",
    "# Display the transformed DataFrame\n",
    "print(df17)"
   ]
  },
  {
   "cell_type": "code",
   "execution_count": 13,
   "id": "5cfdd2b2",
   "metadata": {},
   "outputs": [
    {
     "data": {
      "text/html": [
       "<div>\n",
       "<style scoped>\n",
       "    .dataframe tbody tr th:only-of-type {\n",
       "        vertical-align: middle;\n",
       "    }\n",
       "\n",
       "    .dataframe tbody tr th {\n",
       "        vertical-align: top;\n",
       "    }\n",
       "\n",
       "    .dataframe thead th {\n",
       "        text-align: right;\n",
       "    }\n",
       "</style>\n",
       "<table border=\"1\" class=\"dataframe\">\n",
       "  <thead>\n",
       "    <tr style=\"text-align: right;\">\n",
       "      <th></th>\n",
       "      <th>Metro - Red Line</th>\n",
       "      <th>Metro - Green Line</th>\n",
       "      <th>Tram</th>\n",
       "      <th>Month</th>\n",
       "      <th>Year</th>\n",
       "    </tr>\n",
       "  </thead>\n",
       "  <tbody>\n",
       "    <tr>\n",
       "      <th>0</th>\n",
       "      <td>26793</td>\n",
       "      <td>10532</td>\n",
       "      <td>8448</td>\n",
       "      <td>January</td>\n",
       "      <td>2018</td>\n",
       "    </tr>\n",
       "    <tr>\n",
       "      <th>1</th>\n",
       "      <td>25712</td>\n",
       "      <td>9395</td>\n",
       "      <td>7600</td>\n",
       "      <td>February</td>\n",
       "      <td>2018</td>\n",
       "    </tr>\n",
       "    <tr>\n",
       "      <th>2</th>\n",
       "      <td>28186</td>\n",
       "      <td>10345</td>\n",
       "      <td>8385</td>\n",
       "      <td>March</td>\n",
       "      <td>2018</td>\n",
       "    </tr>\n",
       "    <tr>\n",
       "      <th>3</th>\n",
       "      <td>27662</td>\n",
       "      <td>10095</td>\n",
       "      <td>8149</td>\n",
       "      <td>April</td>\n",
       "      <td>2018</td>\n",
       "    </tr>\n",
       "    <tr>\n",
       "      <th>4</th>\n",
       "      <td>28400</td>\n",
       "      <td>10041</td>\n",
       "      <td>8432</td>\n",
       "      <td>May</td>\n",
       "      <td>2018</td>\n",
       "    </tr>\n",
       "    <tr>\n",
       "      <th>5</th>\n",
       "      <td>28021</td>\n",
       "      <td>9788</td>\n",
       "      <td>8094</td>\n",
       "      <td>June</td>\n",
       "      <td>2018</td>\n",
       "    </tr>\n",
       "    <tr>\n",
       "      <th>6</th>\n",
       "      <td>28619</td>\n",
       "      <td>10436</td>\n",
       "      <td>8393</td>\n",
       "      <td>July</td>\n",
       "      <td>2018</td>\n",
       "    </tr>\n",
       "    <tr>\n",
       "      <th>7</th>\n",
       "      <td>28901</td>\n",
       "      <td>10521</td>\n",
       "      <td>8386</td>\n",
       "      <td>August</td>\n",
       "      <td>2018</td>\n",
       "    </tr>\n",
       "    <tr>\n",
       "      <th>8</th>\n",
       "      <td>27556</td>\n",
       "      <td>10072</td>\n",
       "      <td>8150</td>\n",
       "      <td>September</td>\n",
       "      <td>2018</td>\n",
       "    </tr>\n",
       "    <tr>\n",
       "      <th>9</th>\n",
       "      <td>28679</td>\n",
       "      <td>10449</td>\n",
       "      <td>8418</td>\n",
       "      <td>October</td>\n",
       "      <td>2018</td>\n",
       "    </tr>\n",
       "    <tr>\n",
       "      <th>10</th>\n",
       "      <td>27436</td>\n",
       "      <td>10019</td>\n",
       "      <td>8104</td>\n",
       "      <td>November</td>\n",
       "      <td>2018</td>\n",
       "    </tr>\n",
       "    <tr>\n",
       "      <th>11</th>\n",
       "      <td>28842</td>\n",
       "      <td>10544</td>\n",
       "      <td>8470</td>\n",
       "      <td>December</td>\n",
       "      <td>2018</td>\n",
       "    </tr>\n",
       "    <tr>\n",
       "      <th>12</th>\n",
       "      <td>334807</td>\n",
       "      <td>122237</td>\n",
       "      <td>99029</td>\n",
       "      <td>Total</td>\n",
       "      <td>2018</td>\n",
       "    </tr>\n",
       "  </tbody>\n",
       "</table>\n",
       "</div>"
      ],
      "text/plain": [
       "    Metro - Red Line  Metro - Green Line   Tram      Month  Year\n",
       "0              26793               10532   8448    January  2018\n",
       "1              25712                9395   7600   February  2018\n",
       "2              28186               10345   8385      March  2018\n",
       "3              27662               10095   8149      April  2018\n",
       "4              28400               10041   8432        May  2018\n",
       "5              28021                9788   8094       June  2018\n",
       "6              28619               10436   8393       July  2018\n",
       "7              28901               10521   8386     August  2018\n",
       "8              27556               10072   8150  September  2018\n",
       "9              28679               10449   8418    October  2018\n",
       "10             27436               10019   8104   November  2018\n",
       "11             28842               10544   8470   December  2018\n",
       "12            334807              122237  99029      Total  2018"
      ]
     },
     "execution_count": 13,
     "metadata": {},
     "output_type": "execute_result"
    }
   ],
   "source": [
    "df2"
   ]
  },
  {
   "cell_type": "code",
   "execution_count": 14,
   "id": "d2fa52e5",
   "metadata": {},
   "outputs": [
    {
     "name": "stdout",
     "output_type": "stream",
     "text": [
      "        Month  Year        Transport by  Number of Passengers\n",
      "0     January  2018    Metro - Red Line                 26793\n",
      "1    February  2018    Metro - Red Line                 25712\n",
      "2       March  2018    Metro - Red Line                 28186\n",
      "3       April  2018    Metro - Red Line                 27662\n",
      "4         May  2018    Metro - Red Line                 28400\n",
      "5        June  2018    Metro - Red Line                 28021\n",
      "6        July  2018    Metro - Red Line                 28619\n",
      "7      August  2018    Metro - Red Line                 28901\n",
      "8   September  2018    Metro - Red Line                 27556\n",
      "9     October  2018    Metro - Red Line                 28679\n",
      "10   November  2018    Metro - Red Line                 27436\n",
      "11   December  2018    Metro - Red Line                 28842\n",
      "13    January  2018  Metro - Green Line                 10532\n",
      "14   February  2018  Metro - Green Line                  9395\n",
      "15      March  2018  Metro - Green Line                 10345\n",
      "16      April  2018  Metro - Green Line                 10095\n",
      "17        May  2018  Metro - Green Line                 10041\n",
      "18       June  2018  Metro - Green Line                  9788\n",
      "19       July  2018  Metro - Green Line                 10436\n",
      "20     August  2018  Metro - Green Line                 10521\n",
      "21  September  2018  Metro - Green Line                 10072\n",
      "22    October  2018  Metro - Green Line                 10449\n",
      "23   November  2018  Metro - Green Line                 10019\n",
      "24   December  2018  Metro - Green Line                 10544\n",
      "26    January  2018                Tram                  8448\n",
      "27   February  2018                Tram                  7600\n",
      "28      March  2018                Tram                  8385\n",
      "29      April  2018                Tram                  8149\n",
      "30        May  2018                Tram                  8432\n",
      "31       June  2018                Tram                  8094\n",
      "32       July  2018                Tram                  8393\n",
      "33     August  2018                Tram                  8386\n",
      "34  September  2018                Tram                  8150\n",
      "35    October  2018                Tram                  8418\n",
      "36   November  2018                Tram                  8104\n",
      "37   December  2018                Tram                  8470\n"
     ]
    }
   ],
   "source": [
    "df18= pd.melt(df2, id_vars=['Month', 'Year'], var_name='Transport by', value_name='Number of Passengers')\n",
    "\n",
    "# Remove the 'Total' rows\n",
    "df18 = df18[df18['Month'] != 'Total']\n",
    "\n",
    "# Display the transformed DataFrame\n",
    "print(df18)"
   ]
  },
  {
   "cell_type": "code",
   "execution_count": 15,
   "id": "6d693ed6",
   "metadata": {},
   "outputs": [
    {
     "data": {
      "text/html": [
       "<div>\n",
       "<style scoped>\n",
       "    .dataframe tbody tr th:only-of-type {\n",
       "        vertical-align: middle;\n",
       "    }\n",
       "\n",
       "    .dataframe tbody tr th {\n",
       "        vertical-align: top;\n",
       "    }\n",
       "\n",
       "    .dataframe thead th {\n",
       "        text-align: right;\n",
       "    }\n",
       "</style>\n",
       "<table border=\"1\" class=\"dataframe\">\n",
       "  <thead>\n",
       "    <tr style=\"text-align: right;\">\n",
       "      <th></th>\n",
       "      <th>Metro - Red Line</th>\n",
       "      <th>Metro - Green Line</th>\n",
       "      <th>Tram</th>\n",
       "      <th>Month</th>\n",
       "      <th>Year</th>\n",
       "    </tr>\n",
       "  </thead>\n",
       "  <tbody>\n",
       "    <tr>\n",
       "      <th>0</th>\n",
       "      <td>28481</td>\n",
       "      <td>10553</td>\n",
       "      <td>8429</td>\n",
       "      <td>January</td>\n",
       "      <td>2019</td>\n",
       "    </tr>\n",
       "    <tr>\n",
       "      <th>1</th>\n",
       "      <td>25700</td>\n",
       "      <td>9396</td>\n",
       "      <td>7600</td>\n",
       "      <td>February</td>\n",
       "      <td>2019</td>\n",
       "    </tr>\n",
       "    <tr>\n",
       "      <th>2</th>\n",
       "      <td>28188</td>\n",
       "      <td>10318</td>\n",
       "      <td>8376</td>\n",
       "      <td>March</td>\n",
       "      <td>2019</td>\n",
       "    </tr>\n",
       "    <tr>\n",
       "      <th>3</th>\n",
       "      <td>23166</td>\n",
       "      <td>10120</td>\n",
       "      <td>8154</td>\n",
       "      <td>April</td>\n",
       "      <td>2019</td>\n",
       "    </tr>\n",
       "    <tr>\n",
       "      <th>4</th>\n",
       "      <td>15974</td>\n",
       "      <td>10044</td>\n",
       "      <td>8359</td>\n",
       "      <td>May</td>\n",
       "      <td>2019</td>\n",
       "    </tr>\n",
       "    <tr>\n",
       "      <th>5</th>\n",
       "      <td>16756</td>\n",
       "      <td>10303</td>\n",
       "      <td>8114</td>\n",
       "      <td>June</td>\n",
       "      <td>2019</td>\n",
       "    </tr>\n",
       "    <tr>\n",
       "      <th>6</th>\n",
       "      <td>16907</td>\n",
       "      <td>10446</td>\n",
       "      <td>8419</td>\n",
       "      <td>July</td>\n",
       "      <td>2019</td>\n",
       "    </tr>\n",
       "    <tr>\n",
       "      <th>7</th>\n",
       "      <td>17185</td>\n",
       "      <td>10583</td>\n",
       "      <td>8386</td>\n",
       "      <td>August</td>\n",
       "      <td>2019</td>\n",
       "    </tr>\n",
       "    <tr>\n",
       "      <th>8</th>\n",
       "      <td>16396</td>\n",
       "      <td>9978</td>\n",
       "      <td>8150</td>\n",
       "      <td>September</td>\n",
       "      <td>2019</td>\n",
       "    </tr>\n",
       "    <tr>\n",
       "      <th>9</th>\n",
       "      <td>16846</td>\n",
       "      <td>10471</td>\n",
       "      <td>8430</td>\n",
       "      <td>October</td>\n",
       "      <td>2019</td>\n",
       "    </tr>\n",
       "    <tr>\n",
       "      <th>10</th>\n",
       "      <td>16031</td>\n",
       "      <td>9845</td>\n",
       "      <td>8103</td>\n",
       "      <td>November</td>\n",
       "      <td>2019</td>\n",
       "    </tr>\n",
       "    <tr>\n",
       "      <th>11</th>\n",
       "      <td>17321</td>\n",
       "      <td>10609</td>\n",
       "      <td>8466</td>\n",
       "      <td>December</td>\n",
       "      <td>2019</td>\n",
       "    </tr>\n",
       "    <tr>\n",
       "      <th>12</th>\n",
       "      <td>238951</td>\n",
       "      <td>122666</td>\n",
       "      <td>98986</td>\n",
       "      <td>Total</td>\n",
       "      <td>2019</td>\n",
       "    </tr>\n",
       "  </tbody>\n",
       "</table>\n",
       "</div>"
      ],
      "text/plain": [
       "    Metro - Red Line  Metro - Green Line   Tram      Month  Year\n",
       "0              28481               10553   8429    January  2019\n",
       "1              25700                9396   7600   February  2019\n",
       "2              28188               10318   8376      March  2019\n",
       "3              23166               10120   8154      April  2019\n",
       "4              15974               10044   8359        May  2019\n",
       "5              16756               10303   8114       June  2019\n",
       "6              16907               10446   8419       July  2019\n",
       "7              17185               10583   8386     August  2019\n",
       "8              16396                9978   8150  September  2019\n",
       "9              16846               10471   8430    October  2019\n",
       "10             16031                9845   8103   November  2019\n",
       "11             17321               10609   8466   December  2019\n",
       "12            238951              122666  98986      Total  2019"
      ]
     },
     "execution_count": 15,
     "metadata": {},
     "output_type": "execute_result"
    }
   ],
   "source": [
    "df3"
   ]
  },
  {
   "cell_type": "code",
   "execution_count": 16,
   "id": "ec53149b",
   "metadata": {},
   "outputs": [
    {
     "name": "stdout",
     "output_type": "stream",
     "text": [
      "        Month  Year        Transport by  Number of Passengers\n",
      "0     January  2019    Metro - Red Line                 28481\n",
      "1    February  2019    Metro - Red Line                 25700\n",
      "2       March  2019    Metro - Red Line                 28188\n",
      "3       April  2019    Metro - Red Line                 23166\n",
      "4         May  2019    Metro - Red Line                 15974\n",
      "5        June  2019    Metro - Red Line                 16756\n",
      "6        July  2019    Metro - Red Line                 16907\n",
      "7      August  2019    Metro - Red Line                 17185\n",
      "8   September  2019    Metro - Red Line                 16396\n",
      "9     October  2019    Metro - Red Line                 16846\n",
      "10   November  2019    Metro - Red Line                 16031\n",
      "11   December  2019    Metro - Red Line                 17321\n",
      "13    January  2019  Metro - Green Line                 10553\n",
      "14   February  2019  Metro - Green Line                  9396\n",
      "15      March  2019  Metro - Green Line                 10318\n",
      "16      April  2019  Metro - Green Line                 10120\n",
      "17        May  2019  Metro - Green Line                 10044\n",
      "18       June  2019  Metro - Green Line                 10303\n",
      "19       July  2019  Metro - Green Line                 10446\n",
      "20     August  2019  Metro - Green Line                 10583\n",
      "21  September  2019  Metro - Green Line                  9978\n",
      "22    October  2019  Metro - Green Line                 10471\n",
      "23   November  2019  Metro - Green Line                  9845\n",
      "24   December  2019  Metro - Green Line                 10609\n",
      "26    January  2019                Tram                  8429\n",
      "27   February  2019                Tram                  7600\n",
      "28      March  2019                Tram                  8376\n",
      "29      April  2019                Tram                  8154\n",
      "30        May  2019                Tram                  8359\n",
      "31       June  2019                Tram                  8114\n",
      "32       July  2019                Tram                  8419\n",
      "33     August  2019                Tram                  8386\n",
      "34  September  2019                Tram                  8150\n",
      "35    October  2019                Tram                  8430\n",
      "36   November  2019                Tram                  8103\n",
      "37   December  2019                Tram                  8466\n"
     ]
    }
   ],
   "source": [
    "df19 = pd.melt(df3, id_vars=['Month', 'Year'], var_name='Transport by', value_name='Number of Passengers')\n",
    "\n",
    "# Remove the 'Total' rows\n",
    "df19 = df19[df19['Month'] != 'Total']\n",
    "\n",
    "# Display the transformed DataFrame\n",
    "print(df19)"
   ]
  },
  {
   "cell_type": "code",
   "execution_count": 17,
   "id": "deb90ef9",
   "metadata": {},
   "outputs": [
    {
     "data": {
      "text/plain": [
       "(36, 4)"
      ]
     },
     "execution_count": 17,
     "metadata": {},
     "output_type": "execute_result"
    }
   ],
   "source": [
    "df19.shape"
   ]
  },
  {
   "cell_type": "code",
   "execution_count": 18,
   "id": "d7c57444",
   "metadata": {},
   "outputs": [
    {
     "name": "stdout",
     "output_type": "stream",
     "text": [
      "         Month  Year      Transport by  Number of Passengers\n",
      "0      January  2017  Metro - Red Line                 14557\n",
      "1     February  2017  Metro - Red Line                 12940\n",
      "2        March  2017  Metro - Red Line                 14469\n",
      "3        April  2017  Metro - Red Line                 14007\n",
      "4          May  2017  Metro - Red Line                 14518\n",
      "..         ...   ...               ...                   ...\n",
      "103     August  2019              Tram                  8386\n",
      "104  September  2019              Tram                  8150\n",
      "105    October  2019              Tram                  8430\n",
      "106   November  2019              Tram                  8103\n",
      "107   December  2019              Tram                  8466\n",
      "\n",
      "[108 rows x 4 columns]\n"
     ]
    }
   ],
   "source": [
    "# Merge the datasets\n",
    "data = pd.concat([df17, df18, df19], ignore_index=True)\n",
    "\n",
    "print(data)"
   ]
  },
  {
   "cell_type": "code",
   "execution_count": 19,
   "id": "aababb9e",
   "metadata": {},
   "outputs": [
    {
     "data": {
      "text/html": [
       "<div>\n",
       "<style scoped>\n",
       "    .dataframe tbody tr th:only-of-type {\n",
       "        vertical-align: middle;\n",
       "    }\n",
       "\n",
       "    .dataframe tbody tr th {\n",
       "        vertical-align: top;\n",
       "    }\n",
       "\n",
       "    .dataframe thead th {\n",
       "        text-align: right;\n",
       "    }\n",
       "</style>\n",
       "<table border=\"1\" class=\"dataframe\">\n",
       "  <thead>\n",
       "    <tr style=\"text-align: right;\">\n",
       "      <th></th>\n",
       "      <th>Month</th>\n",
       "      <th>Year</th>\n",
       "      <th>Transport by</th>\n",
       "      <th>Number of Passengers</th>\n",
       "    </tr>\n",
       "  </thead>\n",
       "  <tbody>\n",
       "    <tr>\n",
       "      <th>0</th>\n",
       "      <td>January</td>\n",
       "      <td>2017</td>\n",
       "      <td>Metro - Red Line</td>\n",
       "      <td>14557</td>\n",
       "    </tr>\n",
       "    <tr>\n",
       "      <th>1</th>\n",
       "      <td>February</td>\n",
       "      <td>2017</td>\n",
       "      <td>Metro - Red Line</td>\n",
       "      <td>12940</td>\n",
       "    </tr>\n",
       "    <tr>\n",
       "      <th>2</th>\n",
       "      <td>March</td>\n",
       "      <td>2017</td>\n",
       "      <td>Metro - Red Line</td>\n",
       "      <td>14469</td>\n",
       "    </tr>\n",
       "    <tr>\n",
       "      <th>3</th>\n",
       "      <td>April</td>\n",
       "      <td>2017</td>\n",
       "      <td>Metro - Red Line</td>\n",
       "      <td>14007</td>\n",
       "    </tr>\n",
       "    <tr>\n",
       "      <th>4</th>\n",
       "      <td>May</td>\n",
       "      <td>2017</td>\n",
       "      <td>Metro - Red Line</td>\n",
       "      <td>14518</td>\n",
       "    </tr>\n",
       "    <tr>\n",
       "      <th>...</th>\n",
       "      <td>...</td>\n",
       "      <td>...</td>\n",
       "      <td>...</td>\n",
       "      <td>...</td>\n",
       "    </tr>\n",
       "    <tr>\n",
       "      <th>103</th>\n",
       "      <td>August</td>\n",
       "      <td>2019</td>\n",
       "      <td>Tram</td>\n",
       "      <td>8386</td>\n",
       "    </tr>\n",
       "    <tr>\n",
       "      <th>104</th>\n",
       "      <td>September</td>\n",
       "      <td>2019</td>\n",
       "      <td>Tram</td>\n",
       "      <td>8150</td>\n",
       "    </tr>\n",
       "    <tr>\n",
       "      <th>105</th>\n",
       "      <td>October</td>\n",
       "      <td>2019</td>\n",
       "      <td>Tram</td>\n",
       "      <td>8430</td>\n",
       "    </tr>\n",
       "    <tr>\n",
       "      <th>106</th>\n",
       "      <td>November</td>\n",
       "      <td>2019</td>\n",
       "      <td>Tram</td>\n",
       "      <td>8103</td>\n",
       "    </tr>\n",
       "    <tr>\n",
       "      <th>107</th>\n",
       "      <td>December</td>\n",
       "      <td>2019</td>\n",
       "      <td>Tram</td>\n",
       "      <td>8466</td>\n",
       "    </tr>\n",
       "  </tbody>\n",
       "</table>\n",
       "<p>108 rows × 4 columns</p>\n",
       "</div>"
      ],
      "text/plain": [
       "         Month  Year      Transport by  Number of Passengers\n",
       "0      January  2017  Metro - Red Line                 14557\n",
       "1     February  2017  Metro - Red Line                 12940\n",
       "2        March  2017  Metro - Red Line                 14469\n",
       "3        April  2017  Metro - Red Line                 14007\n",
       "4          May  2017  Metro - Red Line                 14518\n",
       "..         ...   ...               ...                   ...\n",
       "103     August  2019              Tram                  8386\n",
       "104  September  2019              Tram                  8150\n",
       "105    October  2019              Tram                  8430\n",
       "106   November  2019              Tram                  8103\n",
       "107   December  2019              Tram                  8466\n",
       "\n",
       "[108 rows x 4 columns]"
      ]
     },
     "execution_count": 19,
     "metadata": {},
     "output_type": "execute_result"
    }
   ],
   "source": [
    "data"
   ]
  },
  {
   "cell_type": "code",
   "execution_count": 20,
   "id": "d923402d",
   "metadata": {},
   "outputs": [
    {
     "name": "stdout",
     "output_type": "stream",
     "text": [
      "<class 'pandas.core.frame.DataFrame'>\n",
      "RangeIndex: 108 entries, 0 to 107\n",
      "Data columns (total 4 columns):\n",
      " #   Column                Non-Null Count  Dtype \n",
      "---  ------                --------------  ----- \n",
      " 0   Month                 108 non-null    object\n",
      " 1   Year                  108 non-null    int64 \n",
      " 2   Transport by          108 non-null    object\n",
      " 3   Number of Passengers  108 non-null    int64 \n",
      "dtypes: int64(2), object(2)\n",
      "memory usage: 3.5+ KB\n"
     ]
    }
   ],
   "source": [
    "data.info()"
   ]
  },
  {
   "cell_type": "code",
   "execution_count": 21,
   "id": "908d5fce",
   "metadata": {},
   "outputs": [
    {
     "name": "stdout",
     "output_type": "stream",
     "text": [
      "number of duplicate rows (0, 4)\n"
     ]
    }
   ],
   "source": [
    "duplicate_rows_data = data[data.duplicated()]\n",
    "print('number of duplicate rows', duplicate_rows_data.shape)"
   ]
  },
  {
   "cell_type": "code",
   "execution_count": 22,
   "id": "58346535",
   "metadata": {},
   "outputs": [
    {
     "name": "stdout",
     "output_type": "stream",
     "text": [
      "Month                   0\n",
      "Year                    0\n",
      "Transport by            0\n",
      "Number of Passengers    0\n",
      "dtype: int64\n"
     ]
    }
   ],
   "source": [
    "print(data.isnull().sum())"
   ]
  },
  {
   "cell_type": "code",
   "execution_count": 23,
   "id": "02c52db6",
   "metadata": {},
   "outputs": [
    {
     "data": {
      "text/plain": [
       "Month                   108\n",
       "Year                    108\n",
       "Transport by            108\n",
       "Number of Passengers    108\n",
       "dtype: int64"
      ]
     },
     "execution_count": 23,
     "metadata": {},
     "output_type": "execute_result"
    }
   ],
   "source": [
    "data.count()"
   ]
  },
  {
   "cell_type": "code",
   "execution_count": 24,
   "id": "9096efe2",
   "metadata": {},
   "outputs": [
    {
     "data": {
      "text/plain": [
       "<Axes: xlabel='Number of Passengers'>"
      ]
     },
     "execution_count": 24,
     "metadata": {},
     "output_type": "execute_result"
    },
    {
     "data": {
      "image/png": "[encoded data removed]",
      "text/plain": [
       "<Figure size 640x480 with 1 Axes>"
      ]
     },
     "metadata": {},
     "output_type": "display_data"
    }
   ],
   "source": [
    "sns.boxplot(data=data, x=\"Number of Passengers\")"
   ]
  },
  {
   "cell_type": "code",
   "execution_count": 25,
   "id": "195ab811",
   "metadata": {},
   "outputs": [
    {
     "data": {
      "text/plain": [
       "<seaborn.axisgrid.FacetGrid at 0x14d40f710>"
      ]
     },
     "execution_count": 25,
     "metadata": {},
     "output_type": "execute_result"
    },
    {
     "data": {
      "image/png": "[encoded data removed]",
      "text/plain": [
       "<Figure size 678.875x500 with 1 Axes>"
      ]
     },
     "metadata": {},
     "output_type": "display_data"
    }
   ],
   "source": [
    "sns.displot(data=data, x=\"Number of Passengers\", hue=\"Transport by\", kind=\"kde\")"
   ]
  },
  {
   "cell_type": "code",
   "execution_count": 26,
   "id": "045b1656",
   "metadata": {},
   "outputs": [
    {
     "name": "stdout",
     "output_type": "stream",
     "text": [
      "Skew Value 1.475881342279711\n"
     ]
    }
   ],
   "source": [
    "data_skew_value = stats.skew(data['Number of Passengers'], axis=0, bias=True)\n",
    "print('Skew Value',data_skew_value)"
   ]
  },
  {
   "cell_type": "code",
   "execution_count": 27,
   "id": "4d92ea13",
   "metadata": {},
   "outputs": [
    {
     "name": "stdout",
     "output_type": "stream",
     "text": [
      "kurtosis Value 0.7834018118334254\n"
     ]
    }
   ],
   "source": [
    "kurtosis_value = stats.kurtosis(data['Number of Passengers'], axis=0, bias=True)\n",
    "print('kurtosis Value',kurtosis_value)"
   ]
  },
  {
   "cell_type": "code",
   "execution_count": 28,
   "id": "bec81a7d",
   "metadata": {},
   "outputs": [
    {
     "data": {
      "text/plain": [
       "<seaborn.axisgrid.PairGrid at 0x14d566050>"
      ]
     },
     "execution_count": 28,
     "metadata": {},
     "output_type": "execute_result"
    },
    {
     "data": {
      "image/png": "[encoded data removed]",
      "text/plain": [
       "<Figure size 678.875x500 with 6 Axes>"
      ]
     },
     "metadata": {},
     "output_type": "display_data"
    }
   ],
   "source": [
    "g = sns.PairGrid(data, hue=\"Transport by\")\n",
    "g.map_diag(sns.histplot)\n",
    "g.map_offdiag(sns.scatterplot)\n",
    "g.add_legend()"
   ]
  },
  {
   "cell_type": "code",
   "execution_count": 29,
   "id": "d96dea2d",
   "metadata": {},
   "outputs": [
    {
     "data": {
      "image/png": "[encoded data removed]",
      "text/plain": [
       "<Figure size 1500x800 with 1 Axes>"
      ]
     },
     "metadata": {},
     "output_type": "display_data"
    }
   ],
   "source": [
    "def mpl_plot_line(df):\n",
    "    return df.groupby('Month')['Number of Passengers'].sum().plot(figsize=(15, 8), marker='o')\n",
    "\n",
    "outdata = pd.DataFrame(data)  \n",
    "\n",
    "mpl_plot_line(outdata)\n",
    "\n",
    "\n",
    "%matplotlib inline\n",
    "\n",
    "plt.show()\n"
   ]
  },
  {
   "cell_type": "code",
   "execution_count": 30,
   "id": "d9a7bc2d",
   "metadata": {},
   "outputs": [],
   "source": [
    "def plot_boxplot(data_frame, col_name):\n",
    "    plt.figure(figsize=(10,8))\n",
    "    sns.boxplot(data = data_frame, x=col_name);"
   ]
  },
  {
   "cell_type": "code",
   "execution_count": 31,
   "id": "03c88317",
   "metadata": {},
   "outputs": [
    {
     "data": {
      "image/png": "[encoded data removed]",
      "text/plain": [
       "<Figure size 1000x800 with 1 Axes>"
      ]
     },
     "metadata": {},
     "output_type": "display_data"
    }
   ],
   "source": [
    "plot_boxplot(data, 'Number of Passengers')"
   ]
  },
  {
   "cell_type": "code",
   "execution_count": 32,
   "id": "64c833ba",
   "metadata": {},
   "outputs": [
    {
     "name": "stdout",
     "output_type": "stream",
     "text": [
      "IQR 6649.75\n",
      "lower_limit -1562.875\n",
      "upper_limit 25036.125\n"
     ]
    }
   ],
   "source": [
    "def remove_outliers(dataframe, col_name):\n",
    "    Q1 = dataframe[col_name].quantile(0.25)\n",
    "    Q3 = dataframe[col_name].quantile(0.75)\n",
    "    IQR = Q3-Q1 \n",
    "    lower_limit = Q1 - 1.5*IQR\n",
    "    upper_limit = Q3 + 1.5*IQR\n",
    "    print('IQR',IQR)\n",
    "    print('lower_limit',lower_limit)\n",
    "    print('upper_limit',upper_limit)\n",
    "    new_data = dataframe[(dataframe['Number of Passengers'] > lower_limit) & (dataframe['Number of Passengers'] < upper_limit)]\n",
    "    return new_data\n",
    " \n",
    "# 1st degree to remove outliers    \n",
    "data1 = remove_outliers(data, 'Number of Passengers')\n"
   ]
  },
  {
   "cell_type": "code",
   "execution_count": 33,
   "id": "d241e860",
   "metadata": {},
   "outputs": [
    {
     "data": {
      "text/plain": [
       "<Axes: xlabel='Number of Passengers'>"
      ]
     },
     "execution_count": 33,
     "metadata": {},
     "output_type": "execute_result"
    },
    {
     "data": {
      "image/png": "[encoded data removed]",
      "text/plain": [
       "<Figure size 640x480 with 1 Axes>"
      ]
     },
     "metadata": {},
     "output_type": "display_data"
    }
   ],
   "source": [
    "sns.boxplot(data=data, x=\"Number of Passengers\")"
   ]
  },
  {
   "cell_type": "code",
   "execution_count": 34,
   "id": "d38d05ea",
   "metadata": {},
   "outputs": [
    {
     "name": "stdout",
     "output_type": "stream",
     "text": [
      "IQR 2168.0\n",
      "lower_limit 5133.0\n",
      "upper_limit 13805.0\n"
     ]
    }
   ],
   "source": [
    "data1 = remove_outliers(data1, 'Number of Passengers')"
   ]
  },
  {
   "cell_type": "code",
   "execution_count": 35,
   "id": "908a7614",
   "metadata": {},
   "outputs": [
    {
     "name": "stdout",
     "output_type": "stream",
     "text": [
      "IQR 1933.0\n",
      "lower_limit 5318.5\n",
      "upper_limit 13050.5\n"
     ]
    }
   ],
   "source": [
    "data1 = remove_outliers(data1, 'Number of Passengers')"
   ]
  },
  {
   "cell_type": "code",
   "execution_count": 36,
   "id": "c43ea345",
   "metadata": {},
   "outputs": [
    {
     "data": {
      "image/png": "[encoded data removed]",
      "text/plain": [
       "<Figure size 1000x800 with 1 Axes>"
      ]
     },
     "metadata": {},
     "output_type": "display_data"
    }
   ],
   "source": [
    "plot_boxplot(data1, 'Number of Passengers')"
   ]
  },
  {
   "cell_type": "code",
   "execution_count": 37,
   "id": "afc22f28",
   "metadata": {},
   "outputs": [
    {
     "name": "stdout",
     "output_type": "stream",
     "text": [
      "Skew Value 0.4857314811384829\n"
     ]
    }
   ],
   "source": [
    "data1_skew_value = stats.skew(data1['Number of Passengers'], axis=0, bias=True)\n",
    "print('Skew Value',data1_skew_value)"
   ]
  },
  {
   "cell_type": "code",
   "execution_count": 38,
   "id": "8e663455",
   "metadata": {},
   "outputs": [
    {
     "name": "stdout",
     "output_type": "stream",
     "text": [
      "kurtosis Value -0.20400270830717648\n"
     ]
    }
   ],
   "source": [
    "kurtosis_value = stats.kurtosis(data1['Number of Passengers'], axis=0, bias=True)\n",
    "print('kurtosis Value',kurtosis_value)"
   ]
  },
  {
   "cell_type": "code",
   "execution_count": 39,
   "id": "d9da875d",
   "metadata": {},
   "outputs": [
    {
     "data": {
      "text/html": [
       "<div>\n",
       "<style scoped>\n",
       "    .dataframe tbody tr th:only-of-type {\n",
       "        vertical-align: middle;\n",
       "    }\n",
       "\n",
       "    .dataframe tbody tr th {\n",
       "        vertical-align: top;\n",
       "    }\n",
       "\n",
       "    .dataframe thead th {\n",
       "        text-align: right;\n",
       "    }\n",
       "</style>\n",
       "<table border=\"1\" class=\"dataframe\">\n",
       "  <thead>\n",
       "    <tr style=\"text-align: right;\">\n",
       "      <th></th>\n",
       "      <th>Year</th>\n",
       "      <th>Number of Passengers</th>\n",
       "    </tr>\n",
       "  </thead>\n",
       "  <tbody>\n",
       "    <tr>\n",
       "      <th>Year</th>\n",
       "      <td>1.00000</td>\n",
       "      <td>0.03113</td>\n",
       "    </tr>\n",
       "    <tr>\n",
       "      <th>Number of Passengers</th>\n",
       "      <td>0.03113</td>\n",
       "      <td>1.00000</td>\n",
       "    </tr>\n",
       "  </tbody>\n",
       "</table>\n",
       "</div>"
      ],
      "text/plain": [
       "                         Year  Number of Passengers\n",
       "Year                  1.00000               0.03113\n",
       "Number of Passengers  0.03113               1.00000"
      ]
     },
     "execution_count": 39,
     "metadata": {},
     "output_type": "execute_result"
    },
    {
     "data": {
      "image/png": "[encoded data removed]",
      "text/plain": [
       "<Figure size 1000x800 with 2 Axes>"
      ]
     },
     "metadata": {},
     "output_type": "display_data"
    }
   ],
   "source": [
    "# \n",
    "plt.figure(figsize=(10,8))\n",
    "correlation =data1.corr(numeric_only=True)\n",
    "sns.heatmap(correlation, annot=True, fmt='.2f', linewidths=2, cmap=\"coolwarm\")\n",
    "correlation"
   ]
  },
  {
   "cell_type": "code",
   "execution_count": 40,
   "id": "4fe59e66",
   "metadata": {},
   "outputs": [
    {
     "data": {
      "text/plain": [
       "<Axes: xlabel='Number of Passengers', ylabel='Count'>"
      ]
     },
     "execution_count": 40,
     "metadata": {},
     "output_type": "execute_result"
    },
    {
     "data": {
      "image/png": "[encoded data removed]",
      "text/plain": [
       "<Figure size 640x480 with 1 Axes>"
      ]
     },
     "metadata": {},
     "output_type": "display_data"
    }
   ],
   "source": [
    "sns.histplot(data=data1, x=\"Number of Passengers\", hue=\"Transport by\", multiple=\"dodge\", shrink=.8)"
   ]
  },
  {
   "cell_type": "code",
   "execution_count": 41,
   "id": "2abd212c",
   "metadata": {},
   "outputs": [
    {
     "data": {
      "text/plain": [
       "<Figure size 1000x800 with 0 Axes>"
      ]
     },
     "metadata": {},
     "output_type": "display_data"
    },
    {
     "data": {
      "image/png": "[encoded data removed]",
      "text/plain": [
       "<Figure size 678.875x500 with 6 Axes>"
      ]
     },
     "metadata": {},
     "output_type": "display_data"
    }
   ],
   "source": [
    "plt.figure(figsize=(10,8));\n",
    "sns.pairplot(data1, hue=\"Transport by\");\n",
    "plt.show()"
   ]
  },
  {
   "cell_type": "code",
   "execution_count": 42,
   "id": "65aa61e0",
   "metadata": {},
   "outputs": [
    {
     "data": {
      "text/html": [
       "<div>\n",
       "<style scoped>\n",
       "    .dataframe tbody tr th:only-of-type {\n",
       "        vertical-align: middle;\n",
       "    }\n",
       "\n",
       "    .dataframe tbody tr th {\n",
       "        vertical-align: top;\n",
       "    }\n",
       "\n",
       "    .dataframe thead th {\n",
       "        text-align: right;\n",
       "    }\n",
       "</style>\n",
       "<table border=\"1\" class=\"dataframe\">\n",
       "  <thead>\n",
       "    <tr style=\"text-align: right;\">\n",
       "      <th></th>\n",
       "      <th>Year</th>\n",
       "      <th>Number of Passengers</th>\n",
       "    </tr>\n",
       "  </thead>\n",
       "  <tbody>\n",
       "    <tr>\n",
       "      <th>count</th>\n",
       "      <td>73.000000</td>\n",
       "      <td>73.000000</td>\n",
       "    </tr>\n",
       "    <tr>\n",
       "      <th>mean</th>\n",
       "      <td>2017.986301</td>\n",
       "      <td>9201.739726</td>\n",
       "    </tr>\n",
       "    <tr>\n",
       "      <th>std</th>\n",
       "      <td>0.824843</td>\n",
       "      <td>1105.998104</td>\n",
       "    </tr>\n",
       "    <tr>\n",
       "      <th>min</th>\n",
       "      <td>2017.000000</td>\n",
       "      <td>7408.000000</td>\n",
       "    </tr>\n",
       "    <tr>\n",
       "      <th>25%</th>\n",
       "      <td>2017.000000</td>\n",
       "      <td>8218.000000</td>\n",
       "    </tr>\n",
       "    <tr>\n",
       "      <th>50%</th>\n",
       "      <td>2018.000000</td>\n",
       "      <td>8915.000000</td>\n",
       "    </tr>\n",
       "    <tr>\n",
       "      <th>75%</th>\n",
       "      <td>2019.000000</td>\n",
       "      <td>10121.000000</td>\n",
       "    </tr>\n",
       "    <tr>\n",
       "      <th>max</th>\n",
       "      <td>2019.000000</td>\n",
       "      <td>12940.000000</td>\n",
       "    </tr>\n",
       "  </tbody>\n",
       "</table>\n",
       "</div>"
      ],
      "text/plain": [
       "              Year  Number of Passengers\n",
       "count    73.000000             73.000000\n",
       "mean   2017.986301           9201.739726\n",
       "std       0.824843           1105.998104\n",
       "min    2017.000000           7408.000000\n",
       "25%    2017.000000           8218.000000\n",
       "50%    2018.000000           8915.000000\n",
       "75%    2019.000000          10121.000000\n",
       "max    2019.000000          12940.000000"
      ]
     },
     "execution_count": 42,
     "metadata": {},
     "output_type": "execute_result"
    }
   ],
   "source": [
    "data1.describe()"
   ]
  },
  {
   "cell_type": "code",
   "execution_count": 43,
   "id": "276d2fef",
   "metadata": {},
   "outputs": [],
   "source": [
    "import plotly.express as px\n",
    "import dash\n",
    "from dash import dcc\n",
    "from dash import html\n",
    "from dash.dependencies import Input, Output"
   ]
  },
  {
   "cell_type": "code",
   "execution_count": 44,
   "id": "2e1c1dea",
   "metadata": {},
   "outputs": [
    {
     "data": {
      "text/html": [
       "\n",
       "        <iframe\n",
       "            width=\"100%\"\n",
       "            height=\"650\"\n",
       "            src=\"http://127.0.0.1:8051/\"\n",
       "            frameborder=\"0\"\n",
       "            allowfullscreen\n",
       "            \n",
       "        ></iframe>\n",
       "        "
      ],
      "text/plain": [
       "<IPython.lib.display.IFrame at 0x14daa0ed0>"
      ]
     },
     "metadata": {},
     "output_type": "display_data"
    }
   ],
   "source": [
    "df = data\n",
    "\n",
    "# Build App\n",
    "app = dash.Dash(__name__)\n",
    "\n",
    "# Layout\n",
    "app.layout = html.Div([\n",
    "    html.H1(\"Transport in Dubai\"),\n",
    "    \n",
    "    dcc.Graph(id='graph'),\n",
    "\n",
    "    html.Label(\"Select Year\"),\n",
    "    dcc.Dropdown(\n",
    "        id='Year-dropdown',\n",
    "        clearable=False,\n",
    "        value=df['Year'].unique()[0],\n",
    "        options=[\n",
    "            {'label': year, 'value': year}\n",
    "            for year in df['Year'].unique()\n",
    "        ]\n",
    "    ),\n",
    "])\n",
    "\n",
    "# Callback to update graph\n",
    "@app.callback(\n",
    "    Output('graph', 'figure'),\n",
    "    [Input(\"Year-dropdown\", \"value\")]\n",
    ")\n",
    "def update_figure(selected_year):\n",
    "    filtered_df = df[df['Year'] == selected_year]\n",
    "    return px.scatter(\n",
    "        filtered_df,\n",
    "        x=\"Month\",\n",
    "        y=\"Number of Passengers\",\n",
    "        color=\"Transport by\",\n",
    "        render_mode=\"webgl\",\n",
    "        title=f\"Transport in Dubai - {selected_year}\"\n",
    "    )\n",
    "\n",
    "# Run app\n",
    "app.run_server(mode='external', port=8051)\n"
   ]
  },
  {
   "cell_type": "code",
   "execution_count": 45,
   "id": "d5aac469",
   "metadata": {},
   "outputs": [
    {
     "name": "stdout",
     "output_type": "stream",
     "text": [
      "<class 'pandas.core.frame.DataFrame'>\n",
      "RangeIndex: 108 entries, 0 to 107\n",
      "Data columns (total 4 columns):\n",
      " #   Column                Non-Null Count  Dtype \n",
      "---  ------                --------------  ----- \n",
      " 0   Month                 108 non-null    object\n",
      " 1   Year                  108 non-null    int64 \n",
      " 2   Transport by          108 non-null    object\n",
      " 3   Number of Passengers  108 non-null    int64 \n",
      "dtypes: int64(2), object(2)\n",
      "memory usage: 3.5+ KB\n"
     ]
    }
   ],
   "source": [
    "data.info()"
   ]
  },
  {
   "cell_type": "markdown",
   "id": "ca920c09",
   "metadata": {},
   "source": [
    "# Statistical Analysis"
   ]
  },
  {
   "cell_type": "code",
   "execution_count": 46,
   "id": "33188c7e",
   "metadata": {},
   "outputs": [
    {
     "data": {
      "text/html": [
       "<div>\n",
       "<style scoped>\n",
       "    .dataframe tbody tr th:only-of-type {\n",
       "        vertical-align: middle;\n",
       "    }\n",
       "\n",
       "    .dataframe tbody tr th {\n",
       "        vertical-align: top;\n",
       "    }\n",
       "\n",
       "    .dataframe thead th {\n",
       "        text-align: right;\n",
       "    }\n",
       "</style>\n",
       "<table border=\"1\" class=\"dataframe\">\n",
       "  <thead>\n",
       "    <tr style=\"text-align: right;\">\n",
       "      <th></th>\n",
       "      <th>Year</th>\n",
       "      <th>Number of Passengers</th>\n",
       "    </tr>\n",
       "  </thead>\n",
       "  <tbody>\n",
       "    <tr>\n",
       "      <th>count</th>\n",
       "      <td>108.000000</td>\n",
       "      <td>108.000000</td>\n",
       "    </tr>\n",
       "    <tr>\n",
       "      <th>mean</th>\n",
       "      <td>2018.000000</td>\n",
       "      <td>13021.898148</td>\n",
       "    </tr>\n",
       "    <tr>\n",
       "      <th>std</th>\n",
       "      <td>0.820303</td>\n",
       "      <td>6622.598589</td>\n",
       "    </tr>\n",
       "    <tr>\n",
       "      <th>min</th>\n",
       "      <td>2017.000000</td>\n",
       "      <td>7408.000000</td>\n",
       "    </tr>\n",
       "    <tr>\n",
       "      <th>25%</th>\n",
       "      <td>2017.000000</td>\n",
       "      <td>8411.750000</td>\n",
       "    </tr>\n",
       "    <tr>\n",
       "      <th>50%</th>\n",
       "      <td>2018.000000</td>\n",
       "      <td>10120.500000</td>\n",
       "    </tr>\n",
       "    <tr>\n",
       "      <th>75%</th>\n",
       "      <td>2019.000000</td>\n",
       "      <td>15061.500000</td>\n",
       "    </tr>\n",
       "    <tr>\n",
       "      <th>max</th>\n",
       "      <td>2019.000000</td>\n",
       "      <td>28901.000000</td>\n",
       "    </tr>\n",
       "  </tbody>\n",
       "</table>\n",
       "</div>"
      ],
      "text/plain": [
       "              Year  Number of Passengers\n",
       "count   108.000000            108.000000\n",
       "mean   2018.000000          13021.898148\n",
       "std       0.820303           6622.598589\n",
       "min    2017.000000           7408.000000\n",
       "25%    2017.000000           8411.750000\n",
       "50%    2018.000000          10120.500000\n",
       "75%    2019.000000          15061.500000\n",
       "max    2019.000000          28901.000000"
      ]
     },
     "execution_count": 46,
     "metadata": {},
     "output_type": "execute_result"
    }
   ],
   "source": [
    "data.describe()"
   ]
  },
  {
   "cell_type": "code",
   "execution_count": 47,
   "id": "fdf56352",
   "metadata": {},
   "outputs": [],
   "source": [
    "from scipy.stats import norm"
   ]
  },
  {
   "cell_type": "code",
   "execution_count": 48,
   "id": "48ec74eb",
   "metadata": {},
   "outputs": [
    {
     "data": {
      "image/png": "[encoded data removed]",
      "text/plain": [
       "<Figure size 640x480 with 1 Axes>"
      ]
     },
     "metadata": {},
     "output_type": "display_data"
    }
   ],
   "source": [
    "data1 = data['Number of Passengers'].values\n",
    "\n",
    "# Calculate mean and standard deviation\n",
    "mean_passengers = data1.mean()\n",
    "std_passengers = data1.std()\n",
    "\n",
    "# Generate normal PDF\n",
    "normal_df = norm.pdf(data1, loc=mean_passengers, scale=std_passengers)\n",
    "\n",
    "# Plot the data points against the normal PDF\n",
    "plt.plot(data1, normal_df, 'g^')\n",
    "plt.title(\"Normal Distribution of Number of Passengers\", fontsize=16)\n",
    "plt.show()"
   ]
  },
  {
   "cell_type": "code",
   "execution_count": 49,
   "id": "32a48f6f",
   "metadata": {},
   "outputs": [
    {
     "data": {
      "image/png": "[encoded data removed]",
      "text/plain": [
       "<Figure size 1000x800 with 1 Axes>"
      ]
     },
     "metadata": {},
     "output_type": "display_data"
    }
   ],
   "source": [
    "from scipy.stats import poisson\n",
    "from math import factorial\n",
    "def plot_poisson_distribution(column_values):\n",
    "    # Calculate the mean and variance (lambda) of the Poisson distribution\n",
    "    lambda_value = column_values.mean()\n",
    "\n",
    "    # Generate x values from 0 to the maximum value in the data\n",
    "    x = np.arange(0, column_values.max() + 1)\n",
    "\n",
    "    # Calculate Poisson probability mass function\n",
    "    y = poisson.pmf(x, mu=lambda_value)\n",
    "\n",
    "    plt.figure(figsize=(10, 8))\n",
    "    plt.title(\"Poisson Distribution with Lambda {:.2f}\".format(lambda_value), fontsize=\"xx-large\")\n",
    "    plt.plot(x, y, 'bs', markersize=8)\n",
    "    plt.xlabel('Number of passengers')\n",
    "    plt.ylabel('Probability Mass Function')\n",
    "    plt.show()\n",
    "\n",
    "# Call function\n",
    "plot_poisson_distribution(data['Number of Passengers'])"
   ]
  },
  {
   "cell_type": "markdown",
   "id": "e84a5d3d",
   "metadata": {},
   "source": [
    "## chi Square test"
   ]
  },
  {
   "cell_type": "code",
   "execution_count": 50,
   "id": "b579763b",
   "metadata": {},
   "outputs": [
    {
     "data": {
      "text/html": [
       "<div>\n",
       "<style scoped>\n",
       "    .dataframe tbody tr th:only-of-type {\n",
       "        vertical-align: middle;\n",
       "    }\n",
       "\n",
       "    .dataframe tbody tr th {\n",
       "        vertical-align: top;\n",
       "    }\n",
       "\n",
       "    .dataframe thead th {\n",
       "        text-align: right;\n",
       "    }\n",
       "</style>\n",
       "<table border=\"1\" class=\"dataframe\">\n",
       "  <thead>\n",
       "    <tr style=\"text-align: right;\">\n",
       "      <th>Number of Passengers</th>\n",
       "      <th>7408</th>\n",
       "      <th>7600</th>\n",
       "      <th>7894</th>\n",
       "      <th>7896</th>\n",
       "      <th>7947</th>\n",
       "      <th>8094</th>\n",
       "      <th>8103</th>\n",
       "      <th>8104</th>\n",
       "      <th>8114</th>\n",
       "      <th>8130</th>\n",
       "      <th>...</th>\n",
       "      <th>27662</th>\n",
       "      <th>28021</th>\n",
       "      <th>28186</th>\n",
       "      <th>28188</th>\n",
       "      <th>28400</th>\n",
       "      <th>28481</th>\n",
       "      <th>28619</th>\n",
       "      <th>28679</th>\n",
       "      <th>28842</th>\n",
       "      <th>28901</th>\n",
       "    </tr>\n",
       "    <tr>\n",
       "      <th>Year</th>\n",
       "      <th></th>\n",
       "      <th></th>\n",
       "      <th></th>\n",
       "      <th></th>\n",
       "      <th></th>\n",
       "      <th></th>\n",
       "      <th></th>\n",
       "      <th></th>\n",
       "      <th></th>\n",
       "      <th></th>\n",
       "      <th></th>\n",
       "      <th></th>\n",
       "      <th></th>\n",
       "      <th></th>\n",
       "      <th></th>\n",
       "      <th></th>\n",
       "      <th></th>\n",
       "      <th></th>\n",
       "      <th></th>\n",
       "      <th></th>\n",
       "      <th></th>\n",
       "    </tr>\n",
       "  </thead>\n",
       "  <tbody>\n",
       "    <tr>\n",
       "      <th>2017</th>\n",
       "      <td>1</td>\n",
       "      <td>0</td>\n",
       "      <td>1</td>\n",
       "      <td>1</td>\n",
       "      <td>1</td>\n",
       "      <td>0</td>\n",
       "      <td>0</td>\n",
       "      <td>0</td>\n",
       "      <td>0</td>\n",
       "      <td>1</td>\n",
       "      <td>...</td>\n",
       "      <td>0</td>\n",
       "      <td>0</td>\n",
       "      <td>0</td>\n",
       "      <td>0</td>\n",
       "      <td>0</td>\n",
       "      <td>0</td>\n",
       "      <td>0</td>\n",
       "      <td>0</td>\n",
       "      <td>0</td>\n",
       "      <td>0</td>\n",
       "    </tr>\n",
       "    <tr>\n",
       "      <th>2018</th>\n",
       "      <td>0</td>\n",
       "      <td>1</td>\n",
       "      <td>0</td>\n",
       "      <td>0</td>\n",
       "      <td>0</td>\n",
       "      <td>1</td>\n",
       "      <td>0</td>\n",
       "      <td>1</td>\n",
       "      <td>0</td>\n",
       "      <td>0</td>\n",
       "      <td>...</td>\n",
       "      <td>1</td>\n",
       "      <td>1</td>\n",
       "      <td>1</td>\n",
       "      <td>0</td>\n",
       "      <td>1</td>\n",
       "      <td>0</td>\n",
       "      <td>1</td>\n",
       "      <td>1</td>\n",
       "      <td>1</td>\n",
       "      <td>1</td>\n",
       "    </tr>\n",
       "    <tr>\n",
       "      <th>2019</th>\n",
       "      <td>0</td>\n",
       "      <td>1</td>\n",
       "      <td>0</td>\n",
       "      <td>0</td>\n",
       "      <td>0</td>\n",
       "      <td>0</td>\n",
       "      <td>1</td>\n",
       "      <td>0</td>\n",
       "      <td>1</td>\n",
       "      <td>0</td>\n",
       "      <td>...</td>\n",
       "      <td>0</td>\n",
       "      <td>0</td>\n",
       "      <td>0</td>\n",
       "      <td>1</td>\n",
       "      <td>0</td>\n",
       "      <td>1</td>\n",
       "      <td>0</td>\n",
       "      <td>0</td>\n",
       "      <td>0</td>\n",
       "      <td>0</td>\n",
       "    </tr>\n",
       "  </tbody>\n",
       "</table>\n",
       "<p>3 rows × 102 columns</p>\n",
       "</div>"
      ],
      "text/plain": [
       "Number of Passengers  7408   7600   7894   7896   7947   8094   8103   8104   \\\n",
       "Year                                                                           \n",
       "2017                      1      0      1      1      1      0      0      0   \n",
       "2018                      0      1      0      0      0      1      0      1   \n",
       "2019                      0      1      0      0      0      0      1      0   \n",
       "\n",
       "Number of Passengers  8114   8130   ...  27662  28021  28186  28188  28400  \\\n",
       "Year                                ...                                      \n",
       "2017                      0      1  ...      0      0      0      0      0   \n",
       "2018                      0      0  ...      1      1      1      0      1   \n",
       "2019                      1      0  ...      0      0      0      1      0   \n",
       "\n",
       "Number of Passengers  28481  28619  28679  28842  28901  \n",
       "Year                                                     \n",
       "2017                      0      0      0      0      0  \n",
       "2018                      0      1      1      1      1  \n",
       "2019                      1      0      0      0      0  \n",
       "\n",
       "[3 rows x 102 columns]"
      ]
     },
     "execution_count": 50,
     "metadata": {},
     "output_type": "execute_result"
    }
   ],
   "source": [
    "data_table=pd.crosstab(data['Year'],data['Number of Passengers'])\n",
    "data_table"
   ]
  },
  {
   "cell_type": "code",
   "execution_count": 51,
   "id": "ce9b63d7",
   "metadata": {},
   "outputs": [
    {
     "name": "stdout",
     "output_type": "stream",
     "text": [
      "Transport by  Metro - Green Line  Metro - Red Line  Tram  Total\n",
      "Month                                                          \n",
      "April                          3                 3     3      9\n",
      "August                         3                 3     3      9\n",
      "December                       3                 3     3      9\n",
      "February                       3                 3     3      9\n",
      "January                        3                 3     3      9\n",
      "July                           3                 3     3      9\n",
      "June                           3                 3     3      9\n",
      "March                          3                 3     3      9\n",
      "May                            3                 3     3      9\n",
      "November                       3                 3     3      9\n",
      "October                        3                 3     3      9\n",
      "September                      3                 3     3      9\n",
      "Total                         36                36    36    108\n",
      "Chi-squared statistic: 0.0\n",
      "P-value: 1.0\n"
     ]
    }
   ],
   "source": [
    "contingency_table = pd.crosstab(index=data['Month'], columns=[data['Transport by']], values=data['Number of Passengers'], aggfunc='count', margins=True, margins_name='Total')\n",
    "\n",
    "print(contingency_table)\n",
    "\n",
    "chi2_stat, p_value, _, _ = chi2_contingency(contingency_table)\n",
    "print(f\"Chi-squared statistic: {chi2_stat}\")\n",
    "print(f\"P-value: {p_value}\")\n",
    "  "
   ]
  },
  {
   "cell_type": "markdown",
   "id": "8b170ecc",
   "metadata": {},
   "source": [
    "##wilcoxon test"
   ]
  },
  {
   "cell_type": "code",
   "execution_count": 52,
   "id": "210b05bc",
   "metadata": {},
   "outputs": [
    {
     "name": "stdout",
     "output_type": "stream",
     "text": [
      "Wilcoxon Statistic: 0.0\n",
      "P-value: 1.8679594215042613e-19\n",
      "Reject the null hypothesis: There is a significant difference.\n"
     ]
    }
   ],
   "source": [
    "from scipy.stats import wilcoxon\n",
    "\n",
    "data_before = data['Year']\n",
    "data_after = data['Number of Passengers']\n",
    "\n",
    "statistic, p_value = wilcoxon(data_before, data_after)\n",
    "\n",
    "print(f\"Wilcoxon Statistic: {statistic}\")\n",
    "print(f\"P-value: {p_value}\")\n",
    "\n",
    "if p_value < 0.05:\n",
    "    print(\"Reject the null hypothesis: There is a significant difference.\")\n",
    "else:\n",
    "    print(\"Fail to reject the null hypothesis: There is no significant difference.\")\n"
   ]
  },
  {
   "cell_type": "markdown",
   "id": "6cc81f6d",
   "metadata": {},
   "source": [
    "##T Test"
   ]
  },
  {
   "cell_type": "code",
   "execution_count": 53,
   "id": "4779dff3",
   "metadata": {},
   "outputs": [
    {
     "name": "stdout",
     "output_type": "stream",
     "text": [
      "T-test Statistic: 1.4819092969568393\n",
      "P-value: 0.14357065210144251\n",
      "Fail to reject the null hypothesis: There is no significant difference.\n"
     ]
    }
   ],
   "source": [
    "from scipy.stats import ttest_ind\n",
    "\n",
    "data_year_2018 = data[data['Year'] == 2018]['Number of Passengers']\n",
    "data_year_2019 = data[data['Year'] == 2019]['Number of Passengers']\n",
    "\n",
    "statistic, p_value = ttest_ind(data_year_2018, data_year_2019, equal_var=False)\n",
    "\n",
    "print(f\"T-test Statistic: {statistic}\")\n",
    "print(f\"P-value: {p_value}\")\n",
    "\n",
    "if p_value < 0.05:\n",
    "    print(\"Reject the null hypothesis: There is a significant difference.\")\n",
    "else:\n",
    "    print(\"Fail to reject the null hypothesis: There is no significant difference.\")\n"
   ]
  },
  {
   "cell_type": "code",
   "execution_count": 54,
   "id": "399d2272",
   "metadata": {},
   "outputs": [
    {
     "name": "stdout",
     "output_type": "stream",
     "text": [
      "Z-test Statistic: 1.502930336933781\n",
      "P-value: 0.13285700901762532\n",
      "Fail to reject the null hypothesis: There is no significant difference.\n"
     ]
    }
   ],
   "source": [
    "population_std_dev = 6622\n",
    "\n",
    "data_year_2018 = data[data['Year'] == 2018]['Number of Passengers']\n",
    "data_year_2019 = data[data['Year'] == 2019]['Number of Passengers']\n",
    "\n",
    "mean_2018 = np.mean(data_year_2018)\n",
    "mean_2019 = np.mean(data_year_2019)\n",
    "\n",
    "std_error_diff = np.sqrt((np.var(data_year_2018) / len(data_year_2018)) + (np.var(data_year_2019) / len(data_year_2019)))\n",
    "\n",
    "z_statistic = (mean_2018 - mean_2019) / std_error_diff\n",
    "\n",
    "p_value = 2 * (1 - norm.cdf(abs(z_statistic)))\n",
    "\n",
    "print(f\"Z-test Statistic: {z_statistic}\")\n",
    "print(f\"P-value: {p_value}\")\n",
    "\n",
    "if p_value < 0.05:\n",
    "    print(\"Reject the null hypothesis: There is a significant difference.\")\n",
    "else:\n",
    "    print(\"Fail to reject the null hypothesis: There is no significant difference.\")\n"
   ]
  },
  {
   "cell_type": "code",
   "execution_count": 55,
   "id": "0ac4a1b4",
   "metadata": {},
   "outputs": [
    {
     "data": {
      "text/html": [
       "<div>\n",
       "<style scoped>\n",
       "    .dataframe tbody tr th:only-of-type {\n",
       "        vertical-align: middle;\n",
       "    }\n",
       "\n",
       "    .dataframe tbody tr th {\n",
       "        vertical-align: top;\n",
       "    }\n",
       "\n",
       "    .dataframe thead th {\n",
       "        text-align: right;\n",
       "    }\n",
       "</style>\n",
       "<table border=\"1\" class=\"dataframe\">\n",
       "  <thead>\n",
       "    <tr style=\"text-align: right;\">\n",
       "      <th></th>\n",
       "      <th>Month</th>\n",
       "      <th>Year</th>\n",
       "      <th>Transport by</th>\n",
       "      <th>Number of Passengers</th>\n",
       "    </tr>\n",
       "  </thead>\n",
       "  <tbody>\n",
       "    <tr>\n",
       "      <th>0</th>\n",
       "      <td>January</td>\n",
       "      <td>2017</td>\n",
       "      <td>Metro - Red Line</td>\n",
       "      <td>14557</td>\n",
       "    </tr>\n",
       "    <tr>\n",
       "      <th>1</th>\n",
       "      <td>February</td>\n",
       "      <td>2017</td>\n",
       "      <td>Metro - Red Line</td>\n",
       "      <td>12940</td>\n",
       "    </tr>\n",
       "    <tr>\n",
       "      <th>2</th>\n",
       "      <td>March</td>\n",
       "      <td>2017</td>\n",
       "      <td>Metro - Red Line</td>\n",
       "      <td>14469</td>\n",
       "    </tr>\n",
       "    <tr>\n",
       "      <th>3</th>\n",
       "      <td>April</td>\n",
       "      <td>2017</td>\n",
       "      <td>Metro - Red Line</td>\n",
       "      <td>14007</td>\n",
       "    </tr>\n",
       "    <tr>\n",
       "      <th>4</th>\n",
       "      <td>May</td>\n",
       "      <td>2017</td>\n",
       "      <td>Metro - Red Line</td>\n",
       "      <td>14518</td>\n",
       "    </tr>\n",
       "    <tr>\n",
       "      <th>5</th>\n",
       "      <td>June</td>\n",
       "      <td>2017</td>\n",
       "      <td>Metro - Red Line</td>\n",
       "      <td>13459</td>\n",
       "    </tr>\n",
       "    <tr>\n",
       "      <th>6</th>\n",
       "      <td>July</td>\n",
       "      <td>2017</td>\n",
       "      <td>Metro - Red Line</td>\n",
       "      <td>15008</td>\n",
       "    </tr>\n",
       "    <tr>\n",
       "      <th>7</th>\n",
       "      <td>August</td>\n",
       "      <td>2017</td>\n",
       "      <td>Metro - Red Line</td>\n",
       "      <td>15222</td>\n",
       "    </tr>\n",
       "    <tr>\n",
       "      <th>8</th>\n",
       "      <td>September</td>\n",
       "      <td>2017</td>\n",
       "      <td>Metro - Red Line</td>\n",
       "      <td>15231</td>\n",
       "    </tr>\n",
       "    <tr>\n",
       "      <th>9</th>\n",
       "      <td>October</td>\n",
       "      <td>2017</td>\n",
       "      <td>Metro - Red Line</td>\n",
       "      <td>15541</td>\n",
       "    </tr>\n",
       "    <tr>\n",
       "      <th>10</th>\n",
       "      <td>November</td>\n",
       "      <td>2017</td>\n",
       "      <td>Metro - Red Line</td>\n",
       "      <td>14199</td>\n",
       "    </tr>\n",
       "    <tr>\n",
       "      <th>11</th>\n",
       "      <td>December</td>\n",
       "      <td>2017</td>\n",
       "      <td>Metro - Red Line</td>\n",
       "      <td>14669</td>\n",
       "    </tr>\n",
       "    <tr>\n",
       "      <th>12</th>\n",
       "      <td>January</td>\n",
       "      <td>2017</td>\n",
       "      <td>Metro - Green Line</td>\n",
       "      <td>10236</td>\n",
       "    </tr>\n",
       "    <tr>\n",
       "      <th>13</th>\n",
       "      <td>February</td>\n",
       "      <td>2017</td>\n",
       "      <td>Metro - Green Line</td>\n",
       "      <td>9124</td>\n",
       "    </tr>\n",
       "    <tr>\n",
       "      <th>14</th>\n",
       "      <td>March</td>\n",
       "      <td>2017</td>\n",
       "      <td>Metro - Green Line</td>\n",
       "      <td>10087</td>\n",
       "    </tr>\n",
       "    <tr>\n",
       "      <th>15</th>\n",
       "      <td>April</td>\n",
       "      <td>2017</td>\n",
       "      <td>Metro - Green Line</td>\n",
       "      <td>9788</td>\n",
       "    </tr>\n",
       "    <tr>\n",
       "      <th>16</th>\n",
       "      <td>May</td>\n",
       "      <td>2017</td>\n",
       "      <td>Metro - Green Line</td>\n",
       "      <td>10001</td>\n",
       "    </tr>\n",
       "    <tr>\n",
       "      <th>17</th>\n",
       "      <td>June</td>\n",
       "      <td>2017</td>\n",
       "      <td>Metro - Green Line</td>\n",
       "      <td>8915</td>\n",
       "    </tr>\n",
       "    <tr>\n",
       "      <th>18</th>\n",
       "      <td>July</td>\n",
       "      <td>2017</td>\n",
       "      <td>Metro - Green Line</td>\n",
       "      <td>10115</td>\n",
       "    </tr>\n",
       "    <tr>\n",
       "      <th>19</th>\n",
       "      <td>August</td>\n",
       "      <td>2017</td>\n",
       "      <td>Metro - Green Line</td>\n",
       "      <td>10174</td>\n",
       "    </tr>\n",
       "  </tbody>\n",
       "</table>\n",
       "</div>"
      ],
      "text/plain": [
       "        Month  Year        Transport by  Number of Passengers\n",
       "0     January  2017    Metro - Red Line                 14557\n",
       "1    February  2017    Metro - Red Line                 12940\n",
       "2       March  2017    Metro - Red Line                 14469\n",
       "3       April  2017    Metro - Red Line                 14007\n",
       "4         May  2017    Metro - Red Line                 14518\n",
       "5        June  2017    Metro - Red Line                 13459\n",
       "6        July  2017    Metro - Red Line                 15008\n",
       "7      August  2017    Metro - Red Line                 15222\n",
       "8   September  2017    Metro - Red Line                 15231\n",
       "9     October  2017    Metro - Red Line                 15541\n",
       "10   November  2017    Metro - Red Line                 14199\n",
       "11   December  2017    Metro - Red Line                 14669\n",
       "12    January  2017  Metro - Green Line                 10236\n",
       "13   February  2017  Metro - Green Line                  9124\n",
       "14      March  2017  Metro - Green Line                 10087\n",
       "15      April  2017  Metro - Green Line                  9788\n",
       "16        May  2017  Metro - Green Line                 10001\n",
       "17       June  2017  Metro - Green Line                  8915\n",
       "18       July  2017  Metro - Green Line                 10115\n",
       "19     August  2017  Metro - Green Line                 10174"
      ]
     },
     "execution_count": 55,
     "metadata": {},
     "output_type": "execute_result"
    }
   ],
   "source": [
    "data.head(20)"
   ]
  },
  {
   "cell_type": "markdown",
   "id": "68e151d0",
   "metadata": {},
   "source": [
    "# Machine Learning and Analysis"
   ]
  },
  {
   "cell_type": "code",
   "execution_count": 56,
   "id": "0cf79fd7",
   "metadata": {},
   "outputs": [
    {
     "name": "stdout",
     "output_type": "stream",
     "text": [
      "<class 'pandas.core.frame.DataFrame'>\n",
      "RangeIndex: 108 entries, 0 to 107\n",
      "Data columns (total 4 columns):\n",
      " #   Column                Non-Null Count  Dtype  \n",
      "---  ------                --------------  -----  \n",
      " 0   Month                 108 non-null    int64  \n",
      " 1   Year                  108 non-null    int64  \n",
      " 2   Transport by          108 non-null    float64\n",
      " 3   Number of Passengers  108 non-null    int64  \n",
      "dtypes: float64(1), int64(3)\n",
      "memory usage: 3.5 KB\n"
     ]
    }
   ],
   "source": [
    "# calling the method from preprocessing class and assign into variable\n",
    "ord_encoder = OrdinalEncoder()             # Ordinal Data\n",
    "lab_encoder = LabelEncoder()               # Label Data or Nominal Data\n",
    "cat_encoder = OneHotEncoder(sparse=False)  # Categorical Data | Nominal\n",
    "\n",
    "# assign data frame to new variable \n",
    "data2 = data\n",
    "data2['Transport by'] = ord_encoder.fit_transform(data2[['Transport by']])\n",
    "data2['Month'] = lab_encoder.fit_transform(data2['Month'])\n",
    "data2.info()"
   ]
  },
  {
   "cell_type": "code",
   "execution_count": 57,
   "id": "b0173cb6",
   "metadata": {},
   "outputs": [
    {
     "data": {
      "text/html": [
       "<div>\n",
       "<style scoped>\n",
       "    .dataframe tbody tr th:only-of-type {\n",
       "        vertical-align: middle;\n",
       "    }\n",
       "\n",
       "    .dataframe tbody tr th {\n",
       "        vertical-align: top;\n",
       "    }\n",
       "\n",
       "    .dataframe thead th {\n",
       "        text-align: right;\n",
       "    }\n",
       "</style>\n",
       "<table border=\"1\" class=\"dataframe\">\n",
       "  <thead>\n",
       "    <tr style=\"text-align: right;\">\n",
       "      <th></th>\n",
       "      <th>Month</th>\n",
       "      <th>Year</th>\n",
       "      <th>Transport by</th>\n",
       "      <th>Number of Passengers</th>\n",
       "    </tr>\n",
       "  </thead>\n",
       "  <tbody>\n",
       "    <tr>\n",
       "      <th>0</th>\n",
       "      <td>4</td>\n",
       "      <td>2017</td>\n",
       "      <td>1.0</td>\n",
       "      <td>14557</td>\n",
       "    </tr>\n",
       "    <tr>\n",
       "      <th>1</th>\n",
       "      <td>3</td>\n",
       "      <td>2017</td>\n",
       "      <td>1.0</td>\n",
       "      <td>12940</td>\n",
       "    </tr>\n",
       "    <tr>\n",
       "      <th>2</th>\n",
       "      <td>7</td>\n",
       "      <td>2017</td>\n",
       "      <td>1.0</td>\n",
       "      <td>14469</td>\n",
       "    </tr>\n",
       "    <tr>\n",
       "      <th>3</th>\n",
       "      <td>0</td>\n",
       "      <td>2017</td>\n",
       "      <td>1.0</td>\n",
       "      <td>14007</td>\n",
       "    </tr>\n",
       "    <tr>\n",
       "      <th>4</th>\n",
       "      <td>8</td>\n",
       "      <td>2017</td>\n",
       "      <td>1.0</td>\n",
       "      <td>14518</td>\n",
       "    </tr>\n",
       "  </tbody>\n",
       "</table>\n",
       "</div>"
      ],
      "text/plain": [
       "   Month  Year  Transport by  Number of Passengers\n",
       "0      4  2017           1.0                 14557\n",
       "1      3  2017           1.0                 12940\n",
       "2      7  2017           1.0                 14469\n",
       "3      0  2017           1.0                 14007\n",
       "4      8  2017           1.0                 14518"
      ]
     },
     "execution_count": 57,
     "metadata": {},
     "output_type": "execute_result"
    }
   ],
   "source": [
    "data2.head()"
   ]
  },
  {
   "cell_type": "code",
   "execution_count": 58,
   "id": "fb787967",
   "metadata": {},
   "outputs": [],
   "source": [
    "from sklearn.preprocessing import StandardScaler\n",
    "\n",
    "# Assuming 'enluas1' is your DataFrame\n",
    "data2_log_transformed = np.log1p(data2)\n",
    "\n",
    "scaler = StandardScaler()\n",
    "data3= pd.DataFrame(scaler.fit_transform(data2_log_transformed), columns=data2.columns)\n"
   ]
  },
  {
   "cell_type": "code",
   "execution_count": 59,
   "id": "16a05408",
   "metadata": {},
   "outputs": [
    {
     "data": {
      "text/html": [
       "<div>\n",
       "<style scoped>\n",
       "    .dataframe tbody tr th:only-of-type {\n",
       "        vertical-align: middle;\n",
       "    }\n",
       "\n",
       "    .dataframe tbody tr th {\n",
       "        vertical-align: top;\n",
       "    }\n",
       "\n",
       "    .dataframe thead th {\n",
       "        text-align: right;\n",
       "    }\n",
       "</style>\n",
       "<table border=\"1\" class=\"dataframe\">\n",
       "  <thead>\n",
       "    <tr style=\"text-align: right;\">\n",
       "      <th></th>\n",
       "      <th>Month</th>\n",
       "      <th>Year</th>\n",
       "      <th>Transport by</th>\n",
       "      <th>Number of Passengers</th>\n",
       "    </tr>\n",
       "  </thead>\n",
       "  <tbody>\n",
       "    <tr>\n",
       "      <th>0</th>\n",
       "      <td>-0.077610</td>\n",
       "      <td>-1.224846</td>\n",
       "      <td>0.211405</td>\n",
       "      <td>0.504464</td>\n",
       "    </tr>\n",
       "    <tr>\n",
       "      <th>1</th>\n",
       "      <td>-0.385965</td>\n",
       "      <td>-1.224846</td>\n",
       "      <td>0.211405</td>\n",
       "      <td>0.221839</td>\n",
       "    </tr>\n",
       "    <tr>\n",
       "      <th>2</th>\n",
       "      <td>0.571872</td>\n",
       "      <td>-1.224846</td>\n",
       "      <td>0.211405</td>\n",
       "      <td>0.489910</td>\n",
       "    </tr>\n",
       "    <tr>\n",
       "      <th>3</th>\n",
       "      <td>-2.301640</td>\n",
       "      <td>-1.224846</td>\n",
       "      <td>0.211405</td>\n",
       "      <td>0.412019</td>\n",
       "    </tr>\n",
       "    <tr>\n",
       "      <th>4</th>\n",
       "      <td>0.734633</td>\n",
       "      <td>-1.224846</td>\n",
       "      <td>0.211405</td>\n",
       "      <td>0.498025</td>\n",
       "    </tr>\n",
       "  </tbody>\n",
       "</table>\n",
       "</div>"
      ],
      "text/plain": [
       "      Month      Year  Transport by  Number of Passengers\n",
       "0 -0.077610 -1.224846      0.211405              0.504464\n",
       "1 -0.385965 -1.224846      0.211405              0.221839\n",
       "2  0.571872 -1.224846      0.211405              0.489910\n",
       "3 -2.301640 -1.224846      0.211405              0.412019\n",
       "4  0.734633 -1.224846      0.211405              0.498025"
      ]
     },
     "execution_count": 59,
     "metadata": {},
     "output_type": "execute_result"
    }
   ],
   "source": [
    "data3.head()"
   ]
  },
  {
   "cell_type": "code",
   "execution_count": 60,
   "id": "82d24809",
   "metadata": {},
   "outputs": [],
   "source": [
    "X =data3[['Year','Month','Transport by']]\n",
    "y =data3['Number of Passengers']"
   ]
  },
  {
   "cell_type": "code",
   "execution_count": 61,
   "id": "a0270670",
   "metadata": {},
   "outputs": [
    {
     "name": "stdout",
     "output_type": "stream",
     "text": [
      "Training MSE: 0.9720073949715441\n",
      "Testing MSE: 1.0711726317804287\n"
     ]
    }
   ],
   "source": [
    "# Split the data into training and testing sets\n",
    "X_train, X_test, y_train, y_test = train_test_split(X, y, test_size=0.2, random_state=42)\n",
    "\n",
    "# Initialize and train the model\n",
    "model = LinearRegression()\n",
    "model.fit(X_train, y_train)\n",
    "\n",
    "# Predict on the training set\n",
    "y_train_pred = model.predict(X_train)\n",
    "\n",
    "# Predict on the testing set\n",
    "y_test_pred = model.predict(X_test)\n",
    "\n",
    "# Evaluate the model using Mean Squared Error (MSE)\n",
    "train_mse = mean_squared_error(y_train, y_train_pred)\n",
    "test_mse = mean_squared_error(y_test, y_test_pred)\n",
    "\n",
    "# Display the results\n",
    "print(f'Training MSE: {train_mse}')\n",
    "print(f'Testing MSE: {test_mse}')\n"
   ]
  },
  {
   "cell_type": "code",
   "execution_count": 62,
   "id": "2f7741e8",
   "metadata": {},
   "outputs": [
    {
     "name": "stdout",
     "output_type": "stream",
     "text": [
      "X_train: (86, 3)\n",
      "X_test: (22, 3)\n",
      "y_train: (86,)\n",
      "y_test: (22,)\n"
     ]
    }
   ],
   "source": [
    "X_train, X_test, y_train, y_test = train_test_split(X, y, test_size=0.2, random_state= 42)\n",
    "print('X_train:', X_train.shape)\n",
    "print('X_test:', X_test.shape)\n",
    "print('y_train:', y_train.shape)\n",
    "print('y_test:', y_test.shape)"
   ]
  },
  {
   "cell_type": "markdown",
   "id": "723dea16",
   "metadata": {},
   "source": [
    "# Linear Regression"
   ]
  },
  {
   "cell_type": "code",
   "execution_count": 63,
   "id": "914c3113",
   "metadata": {},
   "outputs": [],
   "source": [
    "model = LinearRegression()"
   ]
  },
  {
   "cell_type": "code",
   "execution_count": 64,
   "id": "04fd1ac8",
   "metadata": {},
   "outputs": [
    {
     "data": {
      "text/html": [
       "<style>#sk-container-id-1 {color: black;}#sk-container-id-1 pre{padding: 0;}#sk-container-id-1 div.sk-toggleable {background-color: white;}#sk-container-id-1 label.sk-toggleable__label {cursor: pointer;display: block;width: 100%;margin-bottom: 0;padding: 0.3em;box-sizing: border-box;text-align: center;}#sk-container-id-1 label.sk-toggleable__label-arrow:before {content: \"▸\";float: left;margin-right: 0.25em;color: #696969;}#sk-container-id-1 label.sk-toggleable__label-arrow:hover:before {color: black;}#sk-container-id-1 div.sk-estimator:hover label.sk-toggleable__label-arrow:before {color: black;}#sk-container-id-1 div.sk-toggleable__content {max-height: 0;max-width: 0;overflow: hidden;text-align: left;background-color: #f0f8ff;}#sk-container-id-1 div.sk-toggleable__content pre {margin: 0.2em;color: black;border-radius: 0.25em;background-color: #f0f8ff;}#sk-container-id-1 input.sk-toggleable__control:checked~div.sk-toggleable__content {max-height: 200px;max-width: 100%;overflow: auto;}#sk-container-id-1 input.sk-toggleable__control:checked~label.sk-toggleable__label-arrow:before {content: \"▾\";}#sk-container-id-1 div.sk-estimator input.sk-toggleable__control:checked~label.sk-toggleable__label {background-color: #d4ebff;}#sk-container-id-1 div.sk-label input.sk-toggleable__control:checked~label.sk-toggleable__label {background-color: #d4ebff;}#sk-container-id-1 input.sk-hidden--visually {border: 0;clip: rect(1px 1px 1px 1px);clip: rect(1px, 1px, 1px, 1px);height: 1px;margin: -1px;overflow: hidden;padding: 0;position: absolute;width: 1px;}#sk-container-id-1 div.sk-estimator {font-family: monospace;background-color: #f0f8ff;border: 1px dotted black;border-radius: 0.25em;box-sizing: border-box;margin-bottom: 0.5em;}#sk-container-id-1 div.sk-estimator:hover {background-color: #d4ebff;}#sk-container-id-1 div.sk-parallel-item::after {content: \"\";width: 100%;border-bottom: 1px solid gray;flex-grow: 1;}#sk-container-id-1 div.sk-label:hover label.sk-toggleable__label {background-color: #d4ebff;}#sk-container-id-1 div.sk-serial::before {content: \"\";position: absolute;border-left: 1px solid gray;box-sizing: border-box;top: 0;bottom: 0;left: 50%;z-index: 0;}#sk-container-id-1 div.sk-serial {display: flex;flex-direction: column;align-items: center;background-color: white;padding-right: 0.2em;padding-left: 0.2em;position: relative;}#sk-container-id-1 div.sk-item {position: relative;z-index: 1;}#sk-container-id-1 div.sk-parallel {display: flex;align-items: stretch;justify-content: center;background-color: white;position: relative;}#sk-container-id-1 div.sk-item::before, #sk-container-id-1 div.sk-parallel-item::before {content: \"\";position: absolute;border-left: 1px solid gray;box-sizing: border-box;top: 0;bottom: 0;left: 50%;z-index: -1;}#sk-container-id-1 div.sk-parallel-item {display: flex;flex-direction: column;z-index: 1;position: relative;background-color: white;}#sk-container-id-1 div.sk-parallel-item:first-child::after {align-self: flex-end;width: 50%;}#sk-container-id-1 div.sk-parallel-item:last-child::after {align-self: flex-start;width: 50%;}#sk-container-id-1 div.sk-parallel-item:only-child::after {width: 0;}#sk-container-id-1 div.sk-dashed-wrapped {border: 1px dashed gray;margin: 0 0.4em 0.5em 0.4em;box-sizing: border-box;padding-bottom: 0.4em;background-color: white;}#sk-container-id-1 div.sk-label label {font-family: monospace;font-weight: bold;display: inline-block;line-height: 1.2em;}#sk-container-id-1 div.sk-label-container {text-align: center;}#sk-container-id-1 div.sk-container {/* jupyter's `normalize.less` sets `[hidden] { display: none; }` but bootstrap.min.css set `[hidden] { display: none !important; }` so we also need the `!important` here to be able to override the default hidden behavior on the sphinx rendered scikit-learn.org. See: https://github.com/scikit-learn/scikit-learn/issues/21755 */display: inline-block !important;position: relative;}#sk-container-id-1 div.sk-text-repr-fallback {display: none;}</style><div id=\"sk-container-id-1\" class=\"sk-top-container\"><div class=\"sk-text-repr-fallback\"><pre>LinearRegression()</pre><b>In a Jupyter environment, please rerun this cell to show the HTML representation or trust the notebook. <br />On GitHub, the HTML representation is unable to render, please try loading this page with nbviewer.org.</b></div><div class=\"sk-container\" hidden><div class=\"sk-item\"><div class=\"sk-estimator sk-toggleable\"><input class=\"sk-toggleable__control sk-hidden--visually\" id=\"sk-estimator-id-1\" type=\"checkbox\" checked><label for=\"sk-estimator-id-1\" class=\"sk-toggleable__label sk-toggleable__label-arrow\">LinearRegression</label><div class=\"sk-toggleable__content\"><pre>LinearRegression()</pre></div></div></div></div></div>"
      ],
      "text/plain": [
       "LinearRegression()"
      ]
     },
     "execution_count": 64,
     "metadata": {},
     "output_type": "execute_result"
    }
   ],
   "source": [
    "model.fit(X_train, y_train)"
   ]
  },
  {
   "cell_type": "code",
   "execution_count": 65,
   "id": "95f75d39",
   "metadata": {},
   "outputs": [],
   "source": [
    "y_preds_train = model.predict(X_train)\n",
    "y_preds_test = model.predict(X_test)"
   ]
  },
  {
   "cell_type": "code",
   "execution_count": 66,
   "id": "1af98581",
   "metadata": {},
   "outputs": [
    {
     "name": "stdout",
     "output_type": "stream",
     "text": [
      "R-squared of the model in training set is: 0.017830381673382023\n",
      "-----Test set statistics-----\n",
      "R-squared of the model in test set is: -0.20676334775837812\n",
      "Root mean squared error of the prediction is: 1.0349747010340054\n",
      "Mean absolute percentage error of the prediction is: 104.3683451046278\n"
     ]
    }
   ],
   "source": [
    "print(\"R-squared of the model in training set is: {}\".format(model.score(X_train, y_train)))\n",
    "print(\"-----Test set statistics-----\")\n",
    "print(\"R-squared of the model in test set is: {}\".format(model.score(X_test, y_test)))\n",
    "print(\"Root mean squared error of the prediction is: {}\".format(rmse(y_test, y_preds_test)))\n",
    "print(\"Mean absolute percentage error of the prediction is: {}\".format(np.mean(np.abs((y_test - y_preds_test) / y_test)) * 100))"
   ]
  },
  {
   "cell_type": "markdown",
   "id": "6266c625",
   "metadata": {},
   "source": [
    "# Random Forest"
   ]
  },
  {
   "cell_type": "code",
   "execution_count": 67,
   "id": "70ed11bc",
   "metadata": {},
   "outputs": [],
   "source": [
    "X_train, X_test, Y_train, Y_test = train_test_split(X, y, test_size=0.2, random_state= 42)"
   ]
  },
  {
   "cell_type": "code",
   "execution_count": 68,
   "id": "b949bfd6",
   "metadata": {},
   "outputs": [
    {
     "data": {
      "text/html": [
       "<style>#sk-container-id-2 {color: black;}#sk-container-id-2 pre{padding: 0;}#sk-container-id-2 div.sk-toggleable {background-color: white;}#sk-container-id-2 label.sk-toggleable__label {cursor: pointer;display: block;width: 100%;margin-bottom: 0;padding: 0.3em;box-sizing: border-box;text-align: center;}#sk-container-id-2 label.sk-toggleable__label-arrow:before {content: \"▸\";float: left;margin-right: 0.25em;color: #696969;}#sk-container-id-2 label.sk-toggleable__label-arrow:hover:before {color: black;}#sk-container-id-2 div.sk-estimator:hover label.sk-toggleable__label-arrow:before {color: black;}#sk-container-id-2 div.sk-toggleable__content {max-height: 0;max-width: 0;overflow: hidden;text-align: left;background-color: #f0f8ff;}#sk-container-id-2 div.sk-toggleable__content pre {margin: 0.2em;color: black;border-radius: 0.25em;background-color: #f0f8ff;}#sk-container-id-2 input.sk-toggleable__control:checked~div.sk-toggleable__content {max-height: 200px;max-width: 100%;overflow: auto;}#sk-container-id-2 input.sk-toggleable__control:checked~label.sk-toggleable__label-arrow:before {content: \"▾\";}#sk-container-id-2 div.sk-estimator input.sk-toggleable__control:checked~label.sk-toggleable__label {background-color: #d4ebff;}#sk-container-id-2 div.sk-label input.sk-toggleable__control:checked~label.sk-toggleable__label {background-color: #d4ebff;}#sk-container-id-2 input.sk-hidden--visually {border: 0;clip: rect(1px 1px 1px 1px);clip: rect(1px, 1px, 1px, 1px);height: 1px;margin: -1px;overflow: hidden;padding: 0;position: absolute;width: 1px;}#sk-container-id-2 div.sk-estimator {font-family: monospace;background-color: #f0f8ff;border: 1px dotted black;border-radius: 0.25em;box-sizing: border-box;margin-bottom: 0.5em;}#sk-container-id-2 div.sk-estimator:hover {background-color: #d4ebff;}#sk-container-id-2 div.sk-parallel-item::after {content: \"\";width: 100%;border-bottom: 1px solid gray;flex-grow: 1;}#sk-container-id-2 div.sk-label:hover label.sk-toggleable__label {background-color: #d4ebff;}#sk-container-id-2 div.sk-serial::before {content: \"\";position: absolute;border-left: 1px solid gray;box-sizing: border-box;top: 0;bottom: 0;left: 50%;z-index: 0;}#sk-container-id-2 div.sk-serial {display: flex;flex-direction: column;align-items: center;background-color: white;padding-right: 0.2em;padding-left: 0.2em;position: relative;}#sk-container-id-2 div.sk-item {position: relative;z-index: 1;}#sk-container-id-2 div.sk-parallel {display: flex;align-items: stretch;justify-content: center;background-color: white;position: relative;}#sk-container-id-2 div.sk-item::before, #sk-container-id-2 div.sk-parallel-item::before {content: \"\";position: absolute;border-left: 1px solid gray;box-sizing: border-box;top: 0;bottom: 0;left: 50%;z-index: -1;}#sk-container-id-2 div.sk-parallel-item {display: flex;flex-direction: column;z-index: 1;position: relative;background-color: white;}#sk-container-id-2 div.sk-parallel-item:first-child::after {align-self: flex-end;width: 50%;}#sk-container-id-2 div.sk-parallel-item:last-child::after {align-self: flex-start;width: 50%;}#sk-container-id-2 div.sk-parallel-item:only-child::after {width: 0;}#sk-container-id-2 div.sk-dashed-wrapped {border: 1px dashed gray;margin: 0 0.4em 0.5em 0.4em;box-sizing: border-box;padding-bottom: 0.4em;background-color: white;}#sk-container-id-2 div.sk-label label {font-family: monospace;font-weight: bold;display: inline-block;line-height: 1.2em;}#sk-container-id-2 div.sk-label-container {text-align: center;}#sk-container-id-2 div.sk-container {/* jupyter's `normalize.less` sets `[hidden] { display: none; }` but bootstrap.min.css set `[hidden] { display: none !important; }` so we also need the `!important` here to be able to override the default hidden behavior on the sphinx rendered scikit-learn.org. See: https://github.com/scikit-learn/scikit-learn/issues/21755 */display: inline-block !important;position: relative;}#sk-container-id-2 div.sk-text-repr-fallback {display: none;}</style><div id=\"sk-container-id-2\" class=\"sk-top-container\"><div class=\"sk-text-repr-fallback\"><pre>RandomForestRegressor(random_state=0)</pre><b>In a Jupyter environment, please rerun this cell to show the HTML representation or trust the notebook. <br />On GitHub, the HTML representation is unable to render, please try loading this page with nbviewer.org.</b></div><div class=\"sk-container\" hidden><div class=\"sk-item\"><div class=\"sk-estimator sk-toggleable\"><input class=\"sk-toggleable__control sk-hidden--visually\" id=\"sk-estimator-id-2\" type=\"checkbox\" checked><label for=\"sk-estimator-id-2\" class=\"sk-toggleable__label sk-toggleable__label-arrow\">RandomForestRegressor</label><div class=\"sk-toggleable__content\"><pre>RandomForestRegressor(random_state=0)</pre></div></div></div></div></div>"
      ],
      "text/plain": [
       "RandomForestRegressor(random_state=0)"
      ]
     },
     "execution_count": 68,
     "metadata": {},
     "output_type": "execute_result"
    }
   ],
   "source": [
    "regressor = RandomForestRegressor(n_estimators = 100, random_state = 0)\n",
    "regressor.fit(X_train, Y_train)"
   ]
  },
  {
   "cell_type": "code",
   "execution_count": 69,
   "id": "5d0a89b0",
   "metadata": {},
   "outputs": [],
   "source": [
    "y_pred_random = regressor.predict(X_test)"
   ]
  },
  {
   "cell_type": "code",
   "execution_count": 70,
   "id": "adb7459e",
   "metadata": {},
   "outputs": [
    {
     "name": "stdout",
     "output_type": "stream",
     "text": [
      "R-squared of the model in the training set is: 0.9899144548553975\n",
      "-----Test set statistics-----\n",
      "R-squared of the model in the test set is: 0.8286459508565617\n",
      "Root mean squared error of the prediction is: 0.39000112888492555\n",
      "Mean absolute percentage error of the prediction is: 34.2956487361504\n"
     ]
    }
   ],
   "source": [
    "train_r_squared = regressor.score(X_train, Y_train)\n",
    "print(\"R-squared of the model in the training set is: {}\".format(train_r_squared))\n",
    "test_r_squared = regressor.score(X_test, Y_test)\n",
    "print(\"-----Test set statistics-----\")\n",
    "print(\"R-squared of the model in the test set is: {}\".format(test_r_squared))\n",
    "rmse_value = mean_squared_error(Y_test, y_pred_random) ** 0.5\n",
    "print(\"Root mean squared error of the prediction is: {}\".format(rmse_value))\n",
    "mape_value = np.mean(np.abs((Y_test - y_pred_random) / Y_test)) * 100\n",
    "print(\"Mean absolute percentage error of the prediction is: {}\".format(mape_value))"
   ]
  },
  {
   "cell_type": "markdown",
   "id": "8a10797a",
   "metadata": {},
   "source": [
    "# Dicision Tree"
   ]
  },
  {
   "cell_type": "code",
   "execution_count": 71,
   "id": "e30a485c",
   "metadata": {},
   "outputs": [],
   "source": [
    "X_train, X_test, Y_train, Y_test = train_test_split(X, y, test_size=0.2, random_state= 42)"
   ]
  },
  {
   "cell_type": "code",
   "execution_count": 72,
   "id": "1e563cea",
   "metadata": {},
   "outputs": [
    {
     "data": {
      "text/html": [
       "<style>#sk-container-id-3 {color: black;}#sk-container-id-3 pre{padding: 0;}#sk-container-id-3 div.sk-toggleable {background-color: white;}#sk-container-id-3 label.sk-toggleable__label {cursor: pointer;display: block;width: 100%;margin-bottom: 0;padding: 0.3em;box-sizing: border-box;text-align: center;}#sk-container-id-3 label.sk-toggleable__label-arrow:before {content: \"▸\";float: left;margin-right: 0.25em;color: #696969;}#sk-container-id-3 label.sk-toggleable__label-arrow:hover:before {color: black;}#sk-container-id-3 div.sk-estimator:hover label.sk-toggleable__label-arrow:before {color: black;}#sk-container-id-3 div.sk-toggleable__content {max-height: 0;max-width: 0;overflow: hidden;text-align: left;background-color: #f0f8ff;}#sk-container-id-3 div.sk-toggleable__content pre {margin: 0.2em;color: black;border-radius: 0.25em;background-color: #f0f8ff;}#sk-container-id-3 input.sk-toggleable__control:checked~div.sk-toggleable__content {max-height: 200px;max-width: 100%;overflow: auto;}#sk-container-id-3 input.sk-toggleable__control:checked~label.sk-toggleable__label-arrow:before {content: \"▾\";}#sk-container-id-3 div.sk-estimator input.sk-toggleable__control:checked~label.sk-toggleable__label {background-color: #d4ebff;}#sk-container-id-3 div.sk-label input.sk-toggleable__control:checked~label.sk-toggleable__label {background-color: #d4ebff;}#sk-container-id-3 input.sk-hidden--visually {border: 0;clip: rect(1px 1px 1px 1px);clip: rect(1px, 1px, 1px, 1px);height: 1px;margin: -1px;overflow: hidden;padding: 0;position: absolute;width: 1px;}#sk-container-id-3 div.sk-estimator {font-family: monospace;background-color: #f0f8ff;border: 1px dotted black;border-radius: 0.25em;box-sizing: border-box;margin-bottom: 0.5em;}#sk-container-id-3 div.sk-estimator:hover {background-color: #d4ebff;}#sk-container-id-3 div.sk-parallel-item::after {content: \"\";width: 100%;border-bottom: 1px solid gray;flex-grow: 1;}#sk-container-id-3 div.sk-label:hover label.sk-toggleable__label {background-color: #d4ebff;}#sk-container-id-3 div.sk-serial::before {content: \"\";position: absolute;border-left: 1px solid gray;box-sizing: border-box;top: 0;bottom: 0;left: 50%;z-index: 0;}#sk-container-id-3 div.sk-serial {display: flex;flex-direction: column;align-items: center;background-color: white;padding-right: 0.2em;padding-left: 0.2em;position: relative;}#sk-container-id-3 div.sk-item {position: relative;z-index: 1;}#sk-container-id-3 div.sk-parallel {display: flex;align-items: stretch;justify-content: center;background-color: white;position: relative;}#sk-container-id-3 div.sk-item::before, #sk-container-id-3 div.sk-parallel-item::before {content: \"\";position: absolute;border-left: 1px solid gray;box-sizing: border-box;top: 0;bottom: 0;left: 50%;z-index: -1;}#sk-container-id-3 div.sk-parallel-item {display: flex;flex-direction: column;z-index: 1;position: relative;background-color: white;}#sk-container-id-3 div.sk-parallel-item:first-child::after {align-self: flex-end;width: 50%;}#sk-container-id-3 div.sk-parallel-item:last-child::after {align-self: flex-start;width: 50%;}#sk-container-id-3 div.sk-parallel-item:only-child::after {width: 0;}#sk-container-id-3 div.sk-dashed-wrapped {border: 1px dashed gray;margin: 0 0.4em 0.5em 0.4em;box-sizing: border-box;padding-bottom: 0.4em;background-color: white;}#sk-container-id-3 div.sk-label label {font-family: monospace;font-weight: bold;display: inline-block;line-height: 1.2em;}#sk-container-id-3 div.sk-label-container {text-align: center;}#sk-container-id-3 div.sk-container {/* jupyter's `normalize.less` sets `[hidden] { display: none; }` but bootstrap.min.css set `[hidden] { display: none !important; }` so we also need the `!important` here to be able to override the default hidden behavior on the sphinx rendered scikit-learn.org. See: https://github.com/scikit-learn/scikit-learn/issues/21755 */display: inline-block !important;position: relative;}#sk-container-id-3 div.sk-text-repr-fallback {display: none;}</style><div id=\"sk-container-id-3\" class=\"sk-top-container\"><div class=\"sk-text-repr-fallback\"><pre>DecisionTreeRegressor()</pre><b>In a Jupyter environment, please rerun this cell to show the HTML representation or trust the notebook. <br />On GitHub, the HTML representation is unable to render, please try loading this page with nbviewer.org.</b></div><div class=\"sk-container\" hidden><div class=\"sk-item\"><div class=\"sk-estimator sk-toggleable\"><input class=\"sk-toggleable__control sk-hidden--visually\" id=\"sk-estimator-id-3\" type=\"checkbox\" checked><label for=\"sk-estimator-id-3\" class=\"sk-toggleable__label sk-toggleable__label-arrow\">DecisionTreeRegressor</label><div class=\"sk-toggleable__content\"><pre>DecisionTreeRegressor()</pre></div></div></div></div></div>"
      ],
      "text/plain": [
       "DecisionTreeRegressor()"
      ]
     },
     "execution_count": 72,
     "metadata": {},
     "output_type": "execute_result"
    }
   ],
   "source": [
    "from sklearn.tree import DecisionTreeRegressor\n",
    "DTregressor = DecisionTreeRegressor()\n",
    "DTregressor.fit(X_train, Y_train)"
   ]
  },
  {
   "cell_type": "code",
   "execution_count": 73,
   "id": "72fc6d8e",
   "metadata": {},
   "outputs": [],
   "source": [
    "y_pred_DT = DTregressor.predict(X_test)"
   ]
  },
  {
   "cell_type": "code",
   "execution_count": 74,
   "id": "8dfa1c61",
   "metadata": {},
   "outputs": [
    {
     "name": "stdout",
     "output_type": "stream",
     "text": [
      "R-squared of the model in training set is: 1.0\n",
      "-----Test set statistics-----\n",
      "R-squared of the model in test set is: 0.8287429736870278\n",
      "Root mean squared error of the prediction is: 0.38989070146477556\n",
      "Mean absolute percentage error of the prediction is: 31.40048064404693\n"
     ]
    }
   ],
   "source": [
    "print(\"R-squared of the model in training set is: {}\".format(DTregressor.score(X_train, Y_train)))\n",
    "print(\"-----Test set statistics-----\")\n",
    "print(\"R-squared of the model in test set is: {}\".format(DTregressor.score(X_test, Y_test)))\n",
    "print(\"Root mean squared error of the prediction is: {}\".format(mse(Y_test, y_pred_DT)**(1/2)))\n",
    "print(\"Mean absolute percentage error of the prediction is: {}\".format(np.mean(np.abs((Y_test - y_pred_DT) / Y_test)) * 100))"
   ]
  },
  {
   "cell_type": "markdown",
   "id": "7bbb75bc",
   "metadata": {},
   "source": [
    "# Lasso Regression"
   ]
  },
  {
   "cell_type": "code",
   "execution_count": 75,
   "id": "6758ba47",
   "metadata": {},
   "outputs": [
    {
     "name": "stdout",
     "output_type": "stream",
     "text": [
      "Fitting 5 folds for each of 5 candidates, totalling 25 fits\n"
     ]
    }
   ],
   "source": [
    "from sklearn.linear_model import LassoCV\n",
    "from sklearn.model_selection import GridSearchCV\n",
    "lasso_regression = GridSearchCV(Lasso(), param_grid={'alpha': [0.01, 0.1, 5, 42, 100]}, verbose=1, n_jobs=-1)\n",
    "lasso_regression.fit(X_train, Y_train)\n",
    "\n",
    "best_alpha = lasso_regression.best_params_['alpha']\n",
    "\n",
    "lasso_model = Lasso(alpha=best_alpha)\n",
    "lasso_model.fit(X_train, Y_train)\n",
    "lasso_value = lasso_regression.best_estimator_"
   ]
  },
  {
   "cell_type": "code",
   "execution_count": 76,
   "id": "3dc0bbce",
   "metadata": {},
   "outputs": [],
   "source": [
    "y_lasso_pridct_train = lasso_value.predict(X_train)\n",
    "y_lasso_pridct_test = lasso_value.predict(X_test)"
   ]
  },
  {
   "cell_type": "code",
   "execution_count": 77,
   "id": "7a3a0f40",
   "metadata": {},
   "outputs": [
    {
     "name": "stdout",
     "output_type": "stream",
     "text": [
      "R-squared of the model in Training set is: 0.0%\n",
      "\n",
      "*****Statistical Value for Test Model*****\n",
      "\n",
      "R-squared of the model in Test set is: -21.619%\n",
      "Root mean squared error of the prediction is: 103.901%\n",
      "Mean absolute percentage error of the prediction is: 99.453%\n"
     ]
    }
   ],
   "source": [
    "print(\"R-squared of the model in Training set is: {}%\\n\".format(round(lasso_value.score(X_train,Y_train)*100,3)))\n",
    "print(\"*****Statistical Value for Test Model*****\\n\")\n",
    "print(\"R-squared of the model in Test set is: {}%\".format(round(lasso_value.score(X_test,Y_test)*100,3)))\n",
    "print(\"Root mean squared error of the prediction is: {}%\".format(round(rmse(Y_test,y_lasso_pridct_test)*100,3)))\n",
    "print(\"Mean absolute percentage error of the prediction is: {}%\".format(round(np.mean(np.abs((Y_test - y_lasso_pridct_test)/ Y_test))*100,3)))"
   ]
  },
  {
   "cell_type": "markdown",
   "id": "57d547b2",
   "metadata": {},
   "source": [
    "# Logistic Regression"
   ]
  },
  {
   "cell_type": "code",
   "execution_count": 78,
   "id": "9c4ac142",
   "metadata": {},
   "outputs": [],
   "source": [
    "X_train, X_test, y_train, y_test = train_test_split(X,y, train_size=0.7,test_size=0.3,random_state=100)"
   ]
  },
  {
   "cell_type": "code",
   "execution_count": 79,
   "id": "b9850b13",
   "metadata": {},
   "outputs": [
    {
     "name": "stdout",
     "output_type": "stream",
     "text": [
      "Requirement already satisfied: statsmodels in ./anaconda3/lib/python3.11/site-packages (0.14.0)\n",
      "Requirement already satisfied: numpy>=1.18 in ./anaconda3/lib/python3.11/site-packages (from statsmodels) (1.24.3)\n",
      "Requirement already satisfied: scipy!=1.9.2,>=1.4 in ./anaconda3/lib/python3.11/site-packages (from statsmodels) (1.10.1)\n",
      "Requirement already satisfied: pandas>=1.0 in ./anaconda3/lib/python3.11/site-packages (from statsmodels) (1.5.3)\n",
      "Requirement already satisfied: patsy>=0.5.2 in ./anaconda3/lib/python3.11/site-packages (from statsmodels) (0.5.3)\n",
      "Requirement already satisfied: packaging>=21.3 in ./anaconda3/lib/python3.11/site-packages (from statsmodels) (23.0)\n",
      "Requirement already satisfied: python-dateutil>=2.8.1 in ./anaconda3/lib/python3.11/site-packages (from pandas>=1.0->statsmodels) (2.8.2)\n",
      "Requirement already satisfied: pytz>=2020.1 in ./anaconda3/lib/python3.11/site-packages (from pandas>=1.0->statsmodels) (2022.7)\n",
      "Requirement already satisfied: six in ./anaconda3/lib/python3.11/site-packages (from patsy>=0.5.2->statsmodels) (1.16.0)\n",
      "Note: you may need to restart the kernel to use updated packages.\n"
     ]
    }
   ],
   "source": [
    "pip install statsmodels"
   ]
  },
  {
   "cell_type": "code",
   "execution_count": 80,
   "id": "8dd3944c",
   "metadata": {},
   "outputs": [],
   "source": [
    "import statsmodels.api as sm"
   ]
  },
  {
   "cell_type": "code",
   "execution_count": 81,
   "id": "f41aaad8",
   "metadata": {},
   "outputs": [
    {
     "data": {
      "text/html": [
       "<div>\n",
       "<style scoped>\n",
       "    .dataframe tbody tr th:only-of-type {\n",
       "        vertical-align: middle;\n",
       "    }\n",
       "\n",
       "    .dataframe tbody tr th {\n",
       "        vertical-align: top;\n",
       "    }\n",
       "\n",
       "    .dataframe thead th {\n",
       "        text-align: right;\n",
       "    }\n",
       "</style>\n",
       "<table border=\"1\" class=\"dataframe\">\n",
       "  <thead>\n",
       "    <tr style=\"text-align: right;\">\n",
       "      <th></th>\n",
       "      <th>Year</th>\n",
       "      <th>Month</th>\n",
       "      <th>Transport by</th>\n",
       "    </tr>\n",
       "  </thead>\n",
       "  <tbody>\n",
       "    <tr>\n",
       "      <th>92</th>\n",
       "      <td>1.224644</td>\n",
       "      <td>1.132172</td>\n",
       "      <td>-1.316686</td>\n",
       "    </tr>\n",
       "    <tr>\n",
       "      <th>20</th>\n",
       "      <td>-1.224846</td>\n",
       "      <td>1.132172</td>\n",
       "      <td>-1.316686</td>\n",
       "    </tr>\n",
       "    <tr>\n",
       "      <th>37</th>\n",
       "      <td>0.000202</td>\n",
       "      <td>-0.385965</td>\n",
       "      <td>0.211405</td>\n",
       "    </tr>\n",
       "    <tr>\n",
       "      <th>6</th>\n",
       "      <td>-1.224846</td>\n",
       "      <td>0.174334</td>\n",
       "      <td>0.211405</td>\n",
       "    </tr>\n",
       "    <tr>\n",
       "      <th>3</th>\n",
       "      <td>-1.224846</td>\n",
       "      <td>-2.301640</td>\n",
       "      <td>0.211405</td>\n",
       "    </tr>\n",
       "    <tr>\n",
       "      <th>...</th>\n",
       "      <td>...</td>\n",
       "      <td>...</td>\n",
       "      <td>...</td>\n",
       "    </tr>\n",
       "    <tr>\n",
       "      <th>87</th>\n",
       "      <td>1.224644</td>\n",
       "      <td>-2.301640</td>\n",
       "      <td>-1.316686</td>\n",
       "    </tr>\n",
       "    <tr>\n",
       "      <th>103</th>\n",
       "      <td>1.224644</td>\n",
       "      <td>-1.343803</td>\n",
       "      <td>1.105281</td>\n",
       "    </tr>\n",
       "    <tr>\n",
       "      <th>67</th>\n",
       "      <td>0.000202</td>\n",
       "      <td>-1.343803</td>\n",
       "      <td>1.105281</td>\n",
       "    </tr>\n",
       "    <tr>\n",
       "      <th>24</th>\n",
       "      <td>-1.224846</td>\n",
       "      <td>-0.077610</td>\n",
       "      <td>1.105281</td>\n",
       "    </tr>\n",
       "    <tr>\n",
       "      <th>8</th>\n",
       "      <td>-1.224846</td>\n",
       "      <td>1.132172</td>\n",
       "      <td>0.211405</td>\n",
       "    </tr>\n",
       "  </tbody>\n",
       "</table>\n",
       "<p>75 rows × 3 columns</p>\n",
       "</div>"
      ],
      "text/plain": [
       "         Year     Month  Transport by\n",
       "92   1.224644  1.132172     -1.316686\n",
       "20  -1.224846  1.132172     -1.316686\n",
       "37   0.000202 -0.385965      0.211405\n",
       "6   -1.224846  0.174334      0.211405\n",
       "3   -1.224846 -2.301640      0.211405\n",
       "..        ...       ...           ...\n",
       "87   1.224644 -2.301640     -1.316686\n",
       "103  1.224644 -1.343803      1.105281\n",
       "67   0.000202 -1.343803      1.105281\n",
       "24  -1.224846 -0.077610      1.105281\n",
       "8   -1.224846  1.132172      0.211405\n",
       "\n",
       "[75 rows x 3 columns]"
      ]
     },
     "execution_count": 81,
     "metadata": {},
     "output_type": "execute_result"
    }
   ],
   "source": [
    "X_train"
   ]
  },
  {
   "cell_type": "code",
   "execution_count": 82,
   "id": "9e80d279",
   "metadata": {},
   "outputs": [
    {
     "name": "stderr",
     "output_type": "stream",
     "text": [
      "/Users/ashish/anaconda3/lib/python3.11/site-packages/statsmodels/genmod/families/links.py:198: RuntimeWarning:\n",
      "\n",
      "overflow encountered in exp\n",
      "\n",
      "/Users/ashish/anaconda3/lib/python3.11/site-packages/statsmodels/genmod/families/family.py:1056: RuntimeWarning:\n",
      "\n",
      "invalid value encountered in log\n",
      "\n",
      "/Users/ashish/anaconda3/lib/python3.11/site-packages/statsmodels/genmod/families/family.py:1056: RuntimeWarning:\n",
      "\n",
      "divide by zero encountered in log\n",
      "\n",
      "/Users/ashish/anaconda3/lib/python3.11/site-packages/numpy/core/fromnumeric.py:86: RuntimeWarning:\n",
      "\n",
      "invalid value encountered in reduce\n",
      "\n"
     ]
    },
    {
     "data": {
      "text/html": [
       "<table class=\"simpletable\">\n",
       "<caption>Generalized Linear Model Regression Results</caption>\n",
       "<tr>\n",
       "  <th>Dep. Variable:</th>   <td>Number of Passengers</td> <th>  No. Observations:  </th>  <td>    75</td> \n",
       "</tr>\n",
       "<tr>\n",
       "  <th>Model:</th>                    <td>GLM</td>         <th>  Df Residuals:      </th>  <td>    71</td> \n",
       "</tr>\n",
       "<tr>\n",
       "  <th>Model Family:</th>          <td>Binomial</td>       <th>  Df Model:          </th>  <td>     3</td> \n",
       "</tr>\n",
       "<tr>\n",
       "  <th>Link Function:</th>           <td>Logit</td>        <th>  Scale:             </th> <td>  1.0000</td>\n",
       "</tr>\n",
       "<tr>\n",
       "  <th>Method:</th>                  <td>IRLS</td>         <th>  Log-Likelihood:    </th> <td>     nan</td>\n",
       "</tr>\n",
       "<tr>\n",
       "  <th>Date:</th>              <td>Fri, 12 Jan 2024</td>   <th>  Deviance:          </th> <td>  5994.0</td>\n",
       "</tr>\n",
       "<tr>\n",
       "  <th>Time:</th>                  <td>12:29:17</td>       <th>  Pearson chi2:      </th> <td>3.33e+17</td>\n",
       "</tr>\n",
       "<tr>\n",
       "  <th>No. Iterations:</th>            <td>9</td>          <th>  Pseudo R-squ. (CS):</th>  <td>   nan</td> \n",
       "</tr>\n",
       "<tr>\n",
       "  <th>Covariance Type:</th>       <td>nonrobust</td>      <th>                     </th>     <td> </td>   \n",
       "</tr>\n",
       "</table>\n",
       "<table class=\"simpletable\">\n",
       "<tr>\n",
       "        <td></td>          <th>coef</th>     <th>std err</th>      <th>z</th>      <th>P>|z|</th>  <th>[0.025</th>    <th>0.975]</th>  \n",
       "</tr>\n",
       "<tr>\n",
       "  <th>const</th>        <td>-1.589e+15</td> <td> 7.78e+06</td> <td>-2.04e+08</td> <td> 0.000</td> <td>-1.59e+15</td> <td>-1.59e+15</td>\n",
       "</tr>\n",
       "<tr>\n",
       "  <th>Year</th>         <td> 4.405e+13</td> <td> 7.81e+06</td> <td> 5.64e+06</td> <td> 0.000</td> <td> 4.41e+13</td> <td> 4.41e+13</td>\n",
       "</tr>\n",
       "<tr>\n",
       "  <th>Month</th>        <td> 4.369e+14</td> <td> 7.41e+06</td> <td>  5.9e+07</td> <td> 0.000</td> <td> 4.37e+14</td> <td> 4.37e+14</td>\n",
       "</tr>\n",
       "<tr>\n",
       "  <th>Transport by</th> <td> 3.598e+14</td> <td>  7.8e+06</td> <td> 4.62e+07</td> <td> 0.000</td> <td>  3.6e+14</td> <td>  3.6e+14</td>\n",
       "</tr>\n",
       "</table>"
      ],
      "text/latex": [
       "\\begin{center}\n",
       "\\begin{tabular}{lclc}\n",
       "\\toprule\n",
       "\\textbf{Dep. Variable:}   & Number of Passengers & \\textbf{  No. Observations:  } &       75    \\\\\n",
       "\\textbf{Model:}           &         GLM          & \\textbf{  Df Residuals:      } &       71    \\\\\n",
       "\\textbf{Model Family:}    &       Binomial       & \\textbf{  Df Model:          } &        3    \\\\\n",
       "\\textbf{Link Function:}   &        Logit         & \\textbf{  Scale:             } &    1.0000   \\\\\n",
       "\\textbf{Method:}          &         IRLS         & \\textbf{  Log-Likelihood:    } &       nan   \\\\\n",
       "\\textbf{Date:}            &   Fri, 12 Jan 2024   & \\textbf{  Deviance:          } &    5994.0   \\\\\n",
       "\\textbf{Time:}            &       12:29:17       & \\textbf{  Pearson chi2:      } &  3.33e+17   \\\\\n",
       "\\textbf{No. Iterations:}  &          9           & \\textbf{  Pseudo R-squ. (CS):} &      nan    \\\\\n",
       "\\textbf{Covariance Type:} &      nonrobust       & \\textbf{                     } &             \\\\\n",
       "\\bottomrule\n",
       "\\end{tabular}\n",
       "\\begin{tabular}{lcccccc}\n",
       "                      & \\textbf{coef} & \\textbf{std err} & \\textbf{z} & \\textbf{P$> |$z$|$} & \\textbf{[0.025} & \\textbf{0.975]}  \\\\\n",
       "\\midrule\n",
       "\\textbf{const}        &   -1.589e+15  &     7.78e+06     & -2.04e+08  &         0.000        &    -1.59e+15    &    -1.59e+15     \\\\\n",
       "\\textbf{Year}         &    4.405e+13  &     7.81e+06     &  5.64e+06  &         0.000        &     4.41e+13    &     4.41e+13     \\\\\n",
       "\\textbf{Month}        &    4.369e+14  &     7.41e+06     &   5.9e+07  &         0.000        &     4.37e+14    &     4.37e+14     \\\\\n",
       "\\textbf{Transport by} &    3.598e+14  &      7.8e+06     &  4.62e+07  &         0.000        &      3.6e+14    &      3.6e+14     \\\\\n",
       "\\bottomrule\n",
       "\\end{tabular}\n",
       "%\\caption{Generalized Linear Model Regression Results}\n",
       "\\end{center}"
      ],
      "text/plain": [
       "<class 'statsmodels.iolib.summary.Summary'>\n",
       "\"\"\"\n",
       "                  Generalized Linear Model Regression Results                   \n",
       "================================================================================\n",
       "Dep. Variable:     Number of Passengers   No. Observations:                   75\n",
       "Model:                              GLM   Df Residuals:                       71\n",
       "Model Family:                  Binomial   Df Model:                            3\n",
       "Link Function:                    Logit   Scale:                          1.0000\n",
       "Method:                            IRLS   Log-Likelihood:                    nan\n",
       "Date:                  Fri, 12 Jan 2024   Deviance:                       5994.0\n",
       "Time:                          12:29:17   Pearson chi2:                 3.33e+17\n",
       "No. Iterations:                       9   Pseudo R-squ. (CS):                nan\n",
       "Covariance Type:              nonrobust                                         \n",
       "================================================================================\n",
       "                   coef    std err          z      P>|z|      [0.025      0.975]\n",
       "--------------------------------------------------------------------------------\n",
       "const        -1.589e+15   7.78e+06  -2.04e+08      0.000   -1.59e+15   -1.59e+15\n",
       "Year          4.405e+13   7.81e+06   5.64e+06      0.000    4.41e+13    4.41e+13\n",
       "Month         4.369e+14   7.41e+06    5.9e+07      0.000    4.37e+14    4.37e+14\n",
       "Transport by  3.598e+14    7.8e+06   4.62e+07      0.000     3.6e+14     3.6e+14\n",
       "================================================================================\n",
       "\"\"\""
      ]
     },
     "execution_count": 82,
     "metadata": {},
     "output_type": "execute_result"
    }
   ],
   "source": [
    "logm1 = sm.GLM(y_train,(sm.add_constant(X_train)), family = sm.families.Binomial())\n",
    "logm1.fit().summary()"
   ]
  },
  {
   "cell_type": "code",
   "execution_count": 83,
   "id": "23151cb3",
   "metadata": {},
   "outputs": [
    {
     "name": "stdout",
     "output_type": "stream",
     "text": [
      "Accuracy: 0.36363636363636365\n",
      "\n",
      "Confusion Matrix:\n",
      "[[ 8 11]\n",
      " [ 3  0]]\n",
      "\n",
      "Classification Report:\n",
      "              precision    recall  f1-score   support\n",
      "\n",
      "           0       0.73      0.42      0.53        19\n",
      "           1       0.00      0.00      0.00         3\n",
      "\n",
      "    accuracy                           0.36        22\n",
      "   macro avg       0.36      0.21      0.27        22\n",
      "weighted avg       0.63      0.36      0.46        22\n",
      "\n",
      "                  Generalized Linear Model Regression Results                   \n",
      "================================================================================\n",
      "Dep. Variable:     Number of Passengers   No. Observations:                   86\n",
      "Model:                              GLM   Df Residuals:                       82\n",
      "Model Family:                  Binomial   Df Model:                            3\n",
      "Link Function:                    Logit   Scale:                          1.0000\n",
      "Method:                            IRLS   Log-Likelihood:                -34.590\n",
      "Date:                  Fri, 12 Jan 2024   Deviance:                       69.181\n",
      "Time:                          12:29:17   Pearson chi2:                     78.8\n",
      "No. Iterations:                       5   Pseudo R-squ. (CS):            0.04401\n",
      "Covariance Type:              nonrobust                                         \n",
      "==============================================================================\n",
      "                 coef    std err          z      P>|z|      [0.025      0.975]\n",
      "------------------------------------------------------------------------------\n",
      "const         -1.8521      0.334     -5.540      0.000      -2.507      -1.197\n",
      "x1             0.2994      0.319      0.937      0.349      -0.327       0.925\n",
      "x2            -0.2176      0.295     -0.738      0.460      -0.795       0.360\n",
      "x3             0.4915      0.322      1.528      0.127      -0.139       1.122\n",
      "==============================================================================\n"
     ]
    }
   ],
   "source": [
    "X = data3[['Transport by', 'Month', 'Year']]\n",
    "\n",
    "threshold = 1\n",
    "y = (data3['Number of Passengers'] > threshold).astype(int)\n",
    "\n",
    "# Split the data into training and testing sets\n",
    "X_train, X_test, y_train, y_test = train_test_split(X, y, test_size=0.2, random_state=42)\n",
    "\n",
    "scaler = StandardScaler()\n",
    "X_train_scaled = scaler.fit_transform(X_train)\n",
    "X_test_scaled = scaler.transform(X_test)\n",
    "\n",
    "logistic_model = LogisticRegression(random_state=42, class_weight='balanced')  # Added class_weight='balanced'\n",
    "logistic_model.fit(X_train_scaled, y_train)\n",
    "\n",
    "# Predict on the testing set\n",
    "y_pred = logistic_model.predict(X_test_scaled)\n",
    "\n",
    "accuracy = accuracy_score(y_test, y_pred)\n",
    "conf_matrix = confusion_matrix(y_test, y_pred)\n",
    "classification_rep = classification_report(y_test, y_pred)\n",
    "\n",
    "print(f'Accuracy: {accuracy}')\n",
    "print('\\nConfusion Matrix:')\n",
    "print(conf_matrix)\n",
    "print('\\nClassification Report:')\n",
    "print(classification_rep)\n",
    "\n",
    "logm1 = sm.GLM(y_train, sm.add_constant(X_train_scaled), family=sm.families.Binomial())\n",
    "log_results = logm1.fit()\n",
    "print(log_results.summary())\n"
   ]
  },
  {
   "cell_type": "code",
   "execution_count": null,
   "id": "080c4800",
   "metadata": {},
   "outputs": [],
   "source": []
  }
 ],
 "metadata": {
  "kernelspec": {
   "display_name": "Python 3 (ipykernel)",
   "language": "python",
   "name": "python3"
  },
  "language_info": {
   "codemirror_mode": {
    "name": "ipython",
    "version": 3
   },
   "file_extension": ".py",
   "mimetype": "text/x-python",
   "name": "python",
   "nbconvert_exporter": "python",
   "pygments_lexer": "ipython3",
   "version": "3.11.4"
  }
 },
 "nbformat": 4,
 "nbformat_minor": 5
}
